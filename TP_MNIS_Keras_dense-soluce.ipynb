{
 "cells": [
  {
   "cell_type": "markdown",
   "metadata": {},
   "source": [
    "    v1.1 2018/10/23 JLC Ajout image architecture réseau + correction fautes de frappe\n",
    "    v1.2 2019/06/13 BA  MAJ par Benjamin AILLOUD (stage L2 informatique)\n",
    "    v2.0 2019/06/16 JLC Reformulation version 2."
   ]
  },
  {
   "cell_type": "markdown",
   "metadata": {},
   "source": [
    "<span style=\"font-weight:bold;color:blue;font-family:arial;font-size:xx-large\">\n",
    "    Machine learning avec les module Python Keras & tensorflow \n",
    "</span>"
   ]
  },
  {
   "cell_type": "markdown",
   "metadata": {},
   "source": [
    "<span style=\"font-weight:bold;color:blue;font-family:arial;font-size:x-large\">\n",
    "    Conception / entraînement / utilisation d'un réseau de neurones dédié à la reconnaissance de chiffres manuscrits.</span>"
   ]
  },
  {
   "cell_type": "markdown",
   "metadata": {},
   "source": [
    "Document initialement inspiré du travail de Jason Brownlee : *Handwritten Digit Recognition using Convolutional Neural Networks in Python with Keras* publié en juin 2016 à l'adresse https://machinelearningmastery.com/handwritten-digit-recognition-using-convolutional-neural-networks-python-keras/"
   ]
  },
  {
   "cell_type": "markdown",
   "metadata": {},
   "source": [
    "# A/ Quelques concepts fondamentaux autour des réseaux de neurones"
   ]
  },
  {
   "cell_type": "markdown",
   "metadata": {},
   "source": [
    "### Le neurone artificiel\n",
    "C'est une unité de traitement informatique programmée pour calculer la valeur de sa **fonction d'activation** en un point défini par la **combinaison linéaire de ses entrées** $\\Sigma_i w_i x_i - b$ :"
   ]
  },
  {
   "cell_type": "markdown",
   "metadata": {},
   "source": [
    "<p style=\"text-align:center; font-style:italic; font-size=xx-small\">\n",
    "    <img src=\"./figures/nn_1.png\" width=\"600\" >\n",
    "    (crédit image : JLC)\n",
    "</p>"
   ]
  },
  {
   "cell_type": "markdown",
   "metadata": {},
   "source": [
    "Le poids $b$ de l'entrée *Bias* fixée à `-1` permet de faire apparaître un effet de **translation** (décalage) de la fonction d'activation."
   ]
  },
  {
   "cell_type": "markdown",
   "metadata": {},
   "source": [
    "### Fonction d'activation\n",
    "Les principaux rôles des fonctions d'activation des neurones artificiels sont :\n",
    "- donner au neurone artificiel un comportement **non linéaire** (avec par exemple des mécanismes de seuil, de saturation...)\n",
    "- fixer la plage de sortie de la valeur calculée par le neurone (par exemple sortie dans l'intervalle $[-1 ; 1]$, ou $[0 ; +\\infty[$\n",
    "\n",
    "Exemples de fonction d'activation couramment utilisées :<br />\n",
    "<p style=\"text-align:center; font-style:italic; font-size=xx-small\">\n",
    "    <img src=\"./figures/activationFunctions.png\"> \n",
    "    (crédit image : JLC)\n",
    "</p>"
   ]
  },
  {
   "cell_type": "markdown",
   "metadata": {},
   "source": [
    "### Banque d'images MNIST\n",
    "\n",
    "Dans ce travail, nous utiliserons les images de la banque MNIST disponible sur Internet (http://yann.lecun.com/exdb/mnist/).\n",
    "\n",
    "La banque MNIST propose des images en ton de gris de 28 $\\times$ 28 pixels, correspondant à des matrice de 28 $\\times$ 28 d'entiers compris entre 0 et 255 :\n",
    "<p style=\"text-align:center; font-style:italic; font-size=xx-small\">\n",
    "    <img src=\"./figures/MnistExamples.png\" width=\"500\" >\n",
    "    (crédit image : Josef Steppan — Travail personnel, CC BY-SA 4.0, commons.wikimedia.org/w/index.php?curid=64810040)\n",
    "</p>\n",
    "\n",
    "L'ensemble des images du jeu de données MNIST contient **60000 images d'apprentissage** et **10000 images de test**, soit en tout **70000 images** de 28 x 28 pixels."
   ]
  },
  {
   "cell_type": "markdown",
   "metadata": {},
   "source": [
    "### Structure du réseau à construire \n",
    "Dans un premier temps nous allons construire un simple *réseau dense*, avec :\n",
    "- une **couche d'entrée** de 784 valeurs comprises entre 0 et 1 (les pixels de l'image 28 $\\times$ 28 mis sous forme d'un vecteur de 784 valeurs),\n",
    "- une **couche cachée** de 784 neurones utilisant la fonction d'activation `relu`,\n",
    "- une **couche de sortie** à 10 neurones, pour la classification des images en 10 classes associées aux chiffres {0,1,2...9}, utilisant la fonction d'activation `softmax` adaptée aux traitements de classification."
   ]
  },
  {
   "cell_type": "markdown",
   "metadata": {},
   "source": [
    "<p style=\"text-align:center; font-style:italic; font-size=xx-small\">\n",
    "    <img src=\"./figures/archiReseau.png\" width=\"850\">\n",
    "    (crédit image : JLC)\n",
    "</p>"
   ]
  },
  {
   "cell_type": "markdown",
   "metadata": {},
   "source": [
    "La fonction d'activation `softmax` utilisée pour les 10 neurones de la couche de sortie permet de \"faire ressortir\" la sortie $y_i$ de valeur la plus grande : `softmax` donne une valeur très proche de 1 pour le neurone fournissant la plus grande valeur $y_i$, alors que pour tous les autres neurones, la valeur calculée par `softmax` sera proche de zero."
   ]
  },
  {
   "cell_type": "markdown",
   "metadata": {},
   "source": [
    "<p style=\"text-align:center; font-style:italic; font-size=xx-small\">\n",
    "    <img src=\"./figures/softmax2.png\" width=\"400\">\n",
    "    (crédit image : JLC)\n",
    "</p>"
   ]
  },
  {
   "cell_type": "markdown",
   "metadata": {},
   "source": [
    "Remarques : \n",
    "- Chaque neurone de la couche cachée reçoit 785 entrées : les 784 valeurs des pixels de l'image plus l'entrée -1. \n",
    "- Il y a dons 785 inconnues pour chaque neurone : les 784 poids $w_i$ affectés à chaque entrée $x_i$, plus le  poids $b$ affecté à l'entrée -1 (le biais).\n",
    "- 785 $\\times$ 784 inconnues pour la couche cachée et 785 $\\times$ 10 inconnue spour la couche de sortie : au total, \n",
    "623290 inconnues à trouver pour faire l'apprentissage du réseau."
   ]
  },
  {
   "cell_type": "markdown",
   "metadata": {},
   "source": [
    "#  B/ Environnement Python de travail"
   ]
  },
  {
   "cell_type": "markdown",
   "metadata": {},
   "source": [
    "<span style=\"font-weight:bold;color:brown;font-family:arial;font-size:large\">\n",
    "    Le travail qui suit se fait en utilisant un **environnement Python 3.6 dédié** : voir le document *EnvironnementPython.pdf* si vous n'avez pas encore créé d'environnement Python dédié pour le travail avec les modules Keras et tensorflow.\n",
    "</span>"
   ]
  },
  {
   "cell_type": "markdown",
   "metadata": {},
   "source": [
    "Incrustation des tracés matplolib dans le cahier IPython et import de modules utiles"
   ]
  },
  {
   "cell_type": "code",
   "execution_count": 239,
   "metadata": {},
   "outputs": [
    {
     "data": {
      "text/plain": [
       "'3.6.5 |Anaconda, Inc.| (default, Apr 29 2018, 16:14:56) \\n[GCC 7.2.0]'"
      ]
     },
     "execution_count": 239,
     "metadata": {},
     "output_type": "execute_result"
    }
   ],
   "source": [
    "import sys\n",
    "sys.version"
   ]
  },
  {
   "cell_type": "code",
   "execution_count": 1,
   "metadata": {
    "scrolled": true
   },
   "outputs": [],
   "source": [
    "%matplotlib inline\n",
    "import matplotlib.pyplot as plt\n",
    "import numpy as np\n",
    "from IPython.display import Image"
   ]
  },
  {
   "cell_type": "markdown",
   "metadata": {},
   "source": [
    "## Installation des paquets Python :\n",
    "\n",
    "### module Keras (installe aussi le module tensorflow)\n",
    "Dans une console de commande (\"*fenêtre prompt Anaconda*\" pour Windows, ou \"*terminal*\" pour Mac OS X ou GNU/Linux), taper la commande :\n",
    "\n",
    "    conda install keras\n",
    "    \n",
    "Importer le module `keras`et vérifier sa version (doit être 2.x.y) :    "
   ]
  },
  {
   "cell_type": "code",
   "execution_count": 2,
   "metadata": {},
   "outputs": [
    {
     "name": "stderr",
     "output_type": "stream",
     "text": [
      "Using TensorFlow backend.\n"
     ]
    },
    {
     "data": {
      "text/plain": [
       "'2.2.4'"
      ]
     },
     "execution_count": 2,
     "metadata": {},
     "output_type": "execute_result"
    }
   ],
   "source": [
    "import keras\n",
    "keras.__version__"
   ]
  },
  {
   "cell_type": "markdown",
   "metadata": {},
   "source": [
    "La documentation du module Python Keras (en anglais) est disponible sur https://keras.io."
   ]
  },
  {
   "cell_type": "markdown",
   "metadata": {},
   "source": [
    "### Lecture des fichiers images : deux options possibles OpenCV ou scikit-image...\n",
    "#### Option : lecture des fichiers image avec openCV\n",
    "\n",
    "Si le module `openCV` n'est pas installé, il faut taper dans la \"fenêtre prompt anaconda\" (Windows) ou dans le \"terminal\" (Mac Os X ou GNU/Linux) :\n",
    "\n",
    "    conda install -c anaconda openCV\n",
    "    \n",
    "Test : importer le module OpenCV, qui se présente sous le nom cv2, et vérifier que sa version est au moins `3.4.2`     "
   ]
  },
  {
   "cell_type": "code",
   "execution_count": 3,
   "metadata": {},
   "outputs": [
    {
     "data": {
      "text/plain": [
       "'3.4.2'"
      ]
     },
     "execution_count": 3,
     "metadata": {},
     "output_type": "execute_result"
    }
   ],
   "source": [
    "import cv2\n",
    "cv2.__version__"
   ]
  },
  {
   "cell_type": "markdown",
   "metadata": {},
   "source": [
    "#### Option : lecture des fichiers image avec scikit-image\n",
    "\n",
    "Si l'installation du module openCV pose problème, on peut utiliser la fonction `imread` du module `skimage.io` :\n",
    "\n",
    "    pip install scikit-image\n",
    "    \n",
    "Test : importer le module `skimage` et vérifier que sa version est au moins `0.15.0`:    "
   ]
  },
  {
   "cell_type": "code",
   "execution_count": 4,
   "metadata": {},
   "outputs": [
    {
     "data": {
      "text/plain": [
       "'0.15.0'"
      ]
     },
     "execution_count": 4,
     "metadata": {},
     "output_type": "execute_result"
    }
   ],
   "source": [
    "import skimage\n",
    "skimage.__version__"
   ]
  },
  {
   "cell_type": "markdown",
   "metadata": {},
   "source": [
    "# Travail à faire"
   ]
  },
  {
   "cell_type": "markdown",
   "metadata": {},
   "source": [
    "# 1/ Récupération du jeu de données MNIST :"
   ]
  },
  {
   "cell_type": "markdown",
   "metadata": {},
   "source": [
    "https://fr.wikipedia.org/wiki/Base_de_données_MNIST : La base de données MNIST (*Mixed National Institute of Standards and Technology*), est une base de données de chiffres écrits à la main. C'est un jeu de données très utilisé en apprentissage automatique.<br /><br />\n",
    "L'ensemble des images du jeu de données MNIST contient **60000 images d'apprentissage** et **10000 images de test**, soit en tout **70000 images** de 28 x 28 pixels."
   ]
  },
  {
   "cell_type": "code",
   "execution_count": 5,
   "metadata": {},
   "outputs": [],
   "source": [
    "# Load data from https://www.openml.org/d/554\n",
    "from keras.datasets import mnist\n",
    "(image_train, etiq_train), (image_test, etiq_test) = mnist.load_data() "
   ]
  },
  {
   "cell_type": "markdown",
   "metadata": {},
   "source": [
    "<span style=\"color:blue;font-family:arial\">Faire afficher le type des objets `image_train`, `etiq_train`, `image_test` et `etiq_test` :</span>"
   ]
  },
  {
   "cell_type": "code",
   "execution_count": 6,
   "metadata": {},
   "outputs": [
    {
     "name": "stdout",
     "output_type": "stream",
     "text": [
      "<class 'numpy.ndarray'>\n",
      "<class 'numpy.ndarray'>\n",
      "<class 'numpy.ndarray'>\n",
      "<class 'numpy.ndarray'>\n"
     ]
    }
   ],
   "source": [
    "objs = (image_train, etiq_train, image_test, etiq_test)\n",
    "for o in objs: print(type(o))"
   ]
  },
  {
   "cell_type": "markdown",
   "metadata": {},
   "source": [
    "<span style=\"color:blue;font-family:arial\">Faire afficher les attributs `shape` et `dtype` des tableaux `image_train`, `etiq_train`, `image_test` et `etiq_test` -> interpréter les réponses :</span>"
   ]
  },
  {
   "cell_type": "code",
   "execution_count": 7,
   "metadata": {},
   "outputs": [
    {
     "name": "stdout",
     "output_type": "stream",
     "text": [
      "(60000, 28, 28) uint8\n",
      "(60000,) uint8\n",
      "(10000, 28, 28) uint8\n",
      "(10000,) uint8\n"
     ]
    }
   ],
   "source": [
    "for o in objs: print(o.shape, o.dtype)"
   ]
  },
  {
   "cell_type": "markdown",
   "metadata": {},
   "source": [
    "## 1.1/ Vérification des étiquettes des données : "
   ]
  },
  {
   "cell_type": "markdown",
   "metadata": {},
   "source": [
    "<span style=\"color:blue;font-family:arial\">Faire afficher les 10 premières valeurs de `etiq_train` et `etiq_test` ; interpréter les réponses. </span>"
   ]
  },
  {
   "cell_type": "code",
   "execution_count": 8,
   "metadata": {},
   "outputs": [
    {
     "name": "stdout",
     "output_type": "stream",
     "text": [
      "[5 0 4 1 9 2 1 3 1 4]\n"
     ]
    }
   ],
   "source": [
    "print(etiq_train[:10])"
   ]
  },
  {
   "cell_type": "code",
   "execution_count": 9,
   "metadata": {},
   "outputs": [
    {
     "name": "stdout",
     "output_type": "stream",
     "text": [
      "[7 2 1 0 4 1 4 9 5 9]\n"
     ]
    }
   ],
   "source": [
    "print(etiq_test[:10])"
   ]
  },
  {
   "cell_type": "markdown",
   "metadata": {},
   "source": [
    "## 1.2/ Visualisation des images  :"
   ]
  },
  {
   "cell_type": "markdown",
   "metadata": {},
   "source": [
    "<span style=\"color:blue;font-family:arial;\">Avec la fonction `imshow` du module `matplotlib.pyplot` faire afficher la 601-ème image du tableau `image_train`.<br />\n",
    "Indications :<br />\n",
    "- utiliser `plt.figure(figsize=(5,5))`;<br />\n",
    "- passer l'argument `cmap='binary'` à la fonction `imshow`;<br/>\n",
    "- enlever les graduations en X et Y avec l'instruction  `plt.xticks([]); plt.yticks([])`.</span>"
   ]
  },
  {
   "cell_type": "code",
   "execution_count": 10,
   "metadata": {},
   "outputs": [
    {
     "data": {
      "image/png": "[encoded data removed]",
      "text/plain": [
       "<Figure size 360x360 with 1 Axes>"
      ]
     },
     "metadata": {},
     "output_type": "display_data"
    }
   ],
   "source": [
    "plt.figure(figsize=(5,5))\n",
    "import matplotlib.pyplot as plt\n",
    "plt.imshow(image_train[600],cmap='binary')\n",
    "plt.xticks([]) ; plt.yticks([]);"
   ]
  },
  {
   "cell_type": "markdown",
   "metadata": {},
   "source": [
    "<span style=\"color:blue;font-family:arial\">Vérifier que l'étiquette associée à `image_train[600]` est bien `9` :</span>"
   ]
  },
  {
   "cell_type": "code",
   "execution_count": 11,
   "metadata": {},
   "outputs": [
    {
     "data": {
      "text/plain": [
       "9"
      ]
     },
     "execution_count": 11,
     "metadata": {},
     "output_type": "execute_result"
    }
   ],
   "source": [
    "etiq_train[600]"
   ]
  },
  {
   "cell_type": "markdown",
   "metadata": {},
   "source": [
    "<span style=\"color:blue;font-family:arial\">Écrire une fonction `plotImage` qui prend les arguments 'qui vont bien' pour afficher les images MNIST commençant au rang `r` sur `L` lignes et `C` colonnes (utiliser `plt.subplot`). La figure affichée doit avoir pour dimensions 10 x 10 pouces."
   ]
  },
  {
   "cell_type": "code",
   "execution_count": 88,
   "metadata": {},
   "outputs": [],
   "source": [
    "def plot_image(r,L,C):\n",
    "    plt.figure(figsize=(12,12))\n",
    "    for i in range(L*C):\n",
    "        plt.subplot(L, C, i+1)\n",
    "        plt.imshow(image_train[r+i],cmap='binary', interpolation='none')\n",
    "        plt.xticks([])\n",
    "        plt.yticks([])\n"
   ]
  },
  {
   "cell_type": "markdown",
   "metadata": {},
   "source": [
    "<span style=\"color:blue;font-family:arial\">Fait afficher 100 images à partir de la 600 ème dans une grille de 10x10 : </span>"
   ]
  },
  {
   "cell_type": "code",
   "execution_count": 89,
   "metadata": {},
   "outputs": [
    {
     "data": {
      "image/png": "[encoded data removed]",
      "text/plain": [
       "<Figure size 864x864 with 100 Axes>"
      ]
     },
     "metadata": {},
     "output_type": "display_data"
    }
   ],
   "source": [
    "plot_image(600, 10, 10)"
   ]
  },
  {
   "cell_type": "markdown",
   "metadata": {},
   "source": [
    "# 2/ Pré-traitement des données"
   ]
  },
  {
   "cell_type": "markdown",
   "metadata": {},
   "source": [
    "**Le pré-traitement des données constitue une des étapes fondamentales de l'apprentissage des réseaux de neurones.**"
   ]
  },
  {
   "cell_type": "markdown",
   "metadata": {},
   "source": [
    "Pour adapter les données au réseau de neurones, on doit transformer les matrice d'entiers `uint8` représentant les images 28 x 28 pixels en vecteurs **normalisés** $(V_i)_{i=0..783}$ de 784 valeurs réelles $V_i$  avec $ 0 \\leqslant V_i \\leqslant 1.$"
   ]
  },
  {
   "cell_type": "markdown",
   "metadata": {},
   "source": [
    "## 2.1/ Transformation des matrices d'entrée en vecteurs normalisés :"
   ]
  },
  {
   "cell_type": "code",
   "execution_count": 14,
   "metadata": {},
   "outputs": [],
   "source": [
    "nb_image_train, nb_image_test = image_train.shape[0], image_test.shape[0]\n",
    "nb_pixels = image_train.shape[1] * image_train.shape[2]   # 28 x 28 = 784 pixels\n",
    "\n",
    "# mise 'à plat' des matrices sous forme de vecteurs de floats \n",
    "# Indications: utiliser les méthodes 'reshape(new_shape)' et astype('float32') de ndarray).\n",
    "x_train = image_train.reshape((nb_image_train, nb_pixels)).astype('float32')\n",
    "x_test  = image_test.reshape((nb_image_test, nb_pixels)).astype('float32')\n",
    "\n",
    "# normalisation des tableaux X_train et X_test :\n",
    "x_train = x_train/255\n",
    "x_test  = x_test/255"
   ]
  },
  {
   "cell_type": "markdown",
   "metadata": {},
   "source": [
    "<span style=\"color:blue;font-family:arial\">Vérifier la tailles des tableaux `x_train` et `x_test`  :</span>"
   ]
  },
  {
   "cell_type": "code",
   "execution_count": 15,
   "metadata": {},
   "outputs": [
    {
     "data": {
      "text/plain": [
       "((60000, 784), (10000, 784))"
      ]
     },
     "execution_count": 15,
     "metadata": {},
     "output_type": "execute_result"
    }
   ],
   "source": [
    "x_train.shape, x_test.shape"
   ]
  },
  {
   "cell_type": "markdown",
   "metadata": {},
   "source": [
    "<span style=\"color:blue;font-family:arial\">Vérifier les valeurs min et max des tableaux `x_train` et `x_test`  :</span>"
   ]
  },
  {
   "cell_type": "code",
   "execution_count": 16,
   "metadata": {},
   "outputs": [
    {
     "name": "stdout",
     "output_type": "stream",
     "text": [
      "min et max de x_train: 0.0, 1.0\n",
      "min et max de x_test: 0.0, 1.0\n"
     ]
    }
   ],
   "source": [
    "print(f\"min et max de x_train: {x_train.min()}, {x_train.max()}\")\n",
    "print(f\"min et max de x_test: {x_test.min()}, {x_test.max()}\")"
   ]
  },
  {
   "cell_type": "markdown",
   "metadata": {},
   "source": [
    "## 2.2/ 'Hot coding' des étiquettes :"
   ]
  },
  {
   "cell_type": "markdown",
   "metadata": {},
   "source": [
    "Les étiquettes des images sont des valeurs entières comprises entre 0 et 9. Pour traiter efficacement le problème de classification, on utilise la technique de `hot encoding` qui remplace les valeurs des différentes classes par un vecteur comportant autant d'éléments que de classes à choisir.<br />\n",
    "Par exemple :\n",
    "- l'étiquette `0` sera transformée en la vecteur `[1 0 0 0 0 0 0 0 0 0]`.\n",
    "- l'étiquette `3` sera transformée en la vecteur `[0 0 0 1 0 0 0 0 0 0]`."
   ]
  },
  {
   "cell_type": "markdown",
   "metadata": {},
   "source": [
    "Pour réaliser le codage des étiquettes, on utilise la fonction `to_categorical` du module `keras.utils.np_utils` :"
   ]
  },
  {
   "cell_type": "code",
   "execution_count": 17,
   "metadata": {},
   "outputs": [],
   "source": [
    "from keras.utils.np_utils import to_categorical\n",
    "# 'hot encoding' des sorties :\n",
    "y_train = to_categorical(etiq_train)\n",
    "y_test  = to_categorical(etiq_test)"
   ]
  },
  {
   "cell_type": "markdown",
   "metadata": {},
   "source": [
    "<span style=\"color:blue;font-family:arial\">Faire afficher les 10 premières valeurs de `etiq_train` et les 10 premières valeurs `hot encoded` de `y_train` :</span>"
   ]
  },
  {
   "cell_type": "code",
   "execution_count": 18,
   "metadata": {},
   "outputs": [
    {
     "data": {
      "text/plain": [
       "array([5, 0, 4, 1, 9, 2, 1, 3, 1, 4], dtype=uint8)"
      ]
     },
     "execution_count": 18,
     "metadata": {},
     "output_type": "execute_result"
    }
   ],
   "source": [
    "etiq_train[:10]"
   ]
  },
  {
   "cell_type": "code",
   "execution_count": 19,
   "metadata": {},
   "outputs": [
    {
     "data": {
      "text/plain": [
       "array([[0., 0., 0., 0., 0., 1., 0., 0., 0., 0.],\n",
       "       [1., 0., 0., 0., 0., 0., 0., 0., 0., 0.],\n",
       "       [0., 0., 0., 0., 1., 0., 0., 0., 0., 0.],\n",
       "       [0., 1., 0., 0., 0., 0., 0., 0., 0., 0.],\n",
       "       [0., 0., 0., 0., 0., 0., 0., 0., 0., 1.],\n",
       "       [0., 0., 1., 0., 0., 0., 0., 0., 0., 0.],\n",
       "       [0., 1., 0., 0., 0., 0., 0., 0., 0., 0.],\n",
       "       [0., 0., 0., 1., 0., 0., 0., 0., 0., 0.],\n",
       "       [0., 1., 0., 0., 0., 0., 0., 0., 0., 0.],\n",
       "       [0., 0., 0., 0., 1., 0., 0., 0., 0., 0.]], dtype=float32)"
      ]
     },
     "execution_count": 19,
     "metadata": {},
     "output_type": "execute_result"
    }
   ],
   "source": [
    "y_train[:10]"
   ]
  },
  {
   "cell_type": "code",
   "execution_count": 20,
   "metadata": {},
   "outputs": [
    {
     "data": {
      "text/plain": [
       "10"
      ]
     },
     "execution_count": 20,
     "metadata": {},
     "output_type": "execute_result"
    }
   ],
   "source": [
    "len(y_train[0])"
   ]
  },
  {
   "cell_type": "markdown",
   "metadata": {},
   "source": [
    "# 3/ Construction du réseau de neurones :"
   ]
  },
  {
   "cell_type": "markdown",
   "metadata": {},
   "source": [
    "On va maintenant construire un réseau de neurone **séquentiel** (cf https://keras.io/models/sequential ) en **4 lignes** à l'aide du module **keras** qui permet une manipulation de haut niveau des outils proposés par le module Python **tensorflow**.<br />\n",
    "\n",
    "Les spécifications du réseau de neurones à construire sont :\n",
    "- les entrées sont constituées des 784 pixels, mis sous forme d'un vecteur normalisé ;\n",
    "- le réseau de neurones comporte une première couche de 784 neurones utilisant la fonction d'activation `relu` (*retified linear unit*, voir https://keras.io/activations) ;\n",
    "- la couche de sortie comporte 10 neurones utilisant la fonction d'activation `softmax` pour convertir les sorties en valeur de probalibilités permettant de choisir une des 10 classes ;\n",
    "- la fonction d'erreur (différence entre étiquette et valeur prédite par le réseau) est `Logarithmic loss` (dans Keras elle coorepnd à la *loss function* `categorical_crossentropy`) ;\n",
    "- l'algorithme de descente de gradient ADAM est utilisé pour l'optimisation des poids des neurones par rétro-progation de l'erreur. "
   ]
  },
  {
   "cell_type": "markdown",
   "metadata": {},
   "source": [
    "La **fonction d'erreur** (*loss function*) utilisée pour quantifier l'erreur entre l'étiquette associée aux données d'entrée est disponible dans keras sous le nom `categorical_crossentropy`:"
   ]
  },
  {
   "cell_type": "markdown",
   "metadata": {},
   "source": [
    "<p style=\"text-align:center; font-style:italic; font-size=xx-small\">\n",
    "    <img src=\"./figures/CrossEntropy.png\" width=650>\n",
    "    (crédit image : Deep Learning TensorFlow - Martin Gorner)\n",
    "</p>"
   ]
  },
  {
   "cell_type": "code",
   "execution_count": 53,
   "metadata": {},
   "outputs": [],
   "source": [
    "# fix random seed for reproducibility\n",
    "seed = 43\n",
    "np.random.seed(seed)"
   ]
  },
  {
   "cell_type": "code",
   "execution_count": 54,
   "metadata": {},
   "outputs": [],
   "source": [
    "import numpy as np\n",
    "from keras.models import Sequential\n",
    "from keras.layers import Dense \n",
    "\n",
    "nb_classes = len(y_train[0])\n",
    "\n",
    "# les 4 lignes pour construire le réseau de neurones:\n",
    "model = Sequential()\n",
    "model.add(Dense(nb_pixels, input_dim=nb_pixels, kernel_initializer='normal', activation='relu'))\n",
    "model.add(Dense(nb_classes, kernel_initializer='normal', activation='softmax'))\n",
    "model.compile(loss='categorical_crossentropy', optimizer='adam', metrics=['accuracy'])"
   ]
  },
  {
   "cell_type": "markdown",
   "metadata": {},
   "source": [
    "<span style=\"color:blue;font-family:arial\">Avec la méthode `summary` de l'objet `model`, faire afficher la description du modèle : expliquer les valeurs des paramètres ?</span>"
   ]
  },
  {
   "cell_type": "code",
   "execution_count": 45,
   "metadata": {},
   "outputs": [
    {
     "name": "stdout",
     "output_type": "stream",
     "text": [
      "_________________________________________________________________\n",
      "Layer (type)                 Output Shape              Param #   \n",
      "=================================================================\n",
      "dense_7 (Dense)              (None, 784)               615440    \n",
      "_________________________________________________________________\n",
      "dense_8 (Dense)              (None, 10)                7850      \n",
      "=================================================================\n",
      "Total params: 623,290\n",
      "Trainable params: 623,290\n",
      "Non-trainable params: 0\n",
      "_________________________________________________________________\n"
     ]
    }
   ],
   "source": [
    "model.summary()"
   ]
  },
  {
   "cell_type": "code",
   "execution_count": 46,
   "metadata": {},
   "outputs": [
    {
     "data": {
      "text/plain": [
       "623290"
      ]
     },
     "execution_count": 46,
     "metadata": {},
     "output_type": "execute_result"
    }
   ],
   "source": [
    "784*785 + 10*785"
   ]
  },
  {
   "cell_type": "markdown",
   "metadata": {},
   "source": [
    "# 4/ Entrainnement du réseau :"
   ]
  },
  {
   "cell_type": "markdown",
   "metadata": {},
   "source": [
    "Le modèle est entraîné sur les $60\\,000$ images,\n",
    "- 10 fois de suite (paramètre `epochs`), \n",
    "- avec mises à jour des poids toutes les 200 images (paramètre `batch_size`),\n",
    "en utilisant les données d'entrée `x_train` (images) et les données de sortie `y_train` (étiquettes) :"
   ]
  },
  {
   "cell_type": "code",
   "execution_count": 55,
   "metadata": {},
   "outputs": [
    {
     "name": "stdout",
     "output_type": "stream",
     "text": [
      "Train on 60000 samples, validate on 10000 samples\n",
      "Epoch 1/10\n",
      "60000/60000 [==============================] - 7s 123us/step - loss: 0.2724 - acc: 0.9218 - val_loss: 0.1440 - val_acc: 0.9569\n",
      "Epoch 2/10\n",
      "60000/60000 [==============================] - 6s 103us/step - loss: 0.1113 - acc: 0.9680 - val_loss: 0.0941 - val_acc: 0.9718\n",
      "Epoch 3/10\n",
      "60000/60000 [==============================] - 6s 107us/step - loss: 0.0710 - acc: 0.9797 - val_loss: 0.0770 - val_acc: 0.9763\n",
      "Epoch 4/10\n",
      "60000/60000 [==============================] - 6s 107us/step - loss: 0.0506 - acc: 0.9853 - val_loss: 0.0686 - val_acc: 0.9791\n",
      "Epoch 5/10\n",
      "60000/60000 [==============================] - 6s 105us/step - loss: 0.0363 - acc: 0.9896 - val_loss: 0.0639 - val_acc: 0.9778\n",
      "Epoch 6/10\n",
      "60000/60000 [==============================] - 6s 108us/step - loss: 0.0260 - acc: 0.9934 - val_loss: 0.0588 - val_acc: 0.9800\n",
      "Epoch 7/10\n",
      "60000/60000 [==============================] - 7s 109us/step - loss: 0.0201 - acc: 0.9950 - val_loss: 0.0613 - val_acc: 0.9811\n",
      "Epoch 8/10\n",
      "60000/60000 [==============================] - 6s 107us/step - loss: 0.0143 - acc: 0.9966 - val_loss: 0.0600 - val_acc: 0.9824\n",
      "Epoch 9/10\n",
      "60000/60000 [==============================] - 6s 108us/step - loss: 0.0092 - acc: 0.9986 - val_loss: 0.0599 - val_acc: 0.9820\n",
      "Epoch 10/10\n",
      "60000/60000 [==============================] - 7s 111us/step - loss: 0.0077 - acc: 0.9987 - val_loss: 0.0586 - val_acc: 0.9821\n"
     ]
    }
   ],
   "source": [
    "history = model.fit(x_train, y_train, validation_data=(x_test, y_test), epochs=10, batch_size=200, verbose=1)"
   ]
  },
  {
   "cell_type": "markdown",
   "metadata": {},
   "source": [
    "### Tracé des courbes `accuracy` et `loss` :"
   ]
  },
  {
   "cell_type": "code",
   "execution_count": 26,
   "metadata": {},
   "outputs": [],
   "source": [
    "def plot(history):\n",
    "    # Plot training & validation accuracy values\n",
    "    plt.figure(figsize=(15,5))\n",
    "    ax1 = plt.subplot(1,2,1)\n",
    "    ax1.plot(history.history['acc'], 'o-',label='Train')\n",
    "    ax1.plot(history.history['val_acc'], 'o-', label='Test')\n",
    "    ax1.set_title('Model accuracy')\n",
    "    ax1.set_ylabel('Accuracy')\n",
    "    ax1.set_xlabel('Epoch') \n",
    "    ax1.grid()\n",
    "    ax1.legend(loc='best')\n",
    "    # Plot training & validation loss values\n",
    "    ax2 = plt.subplot(1,2,2)\n",
    "    ax2.plot(history.history['loss'], 'o-', label='Train')\n",
    "    ax2.plot(history.history['val_loss'], 'o-',  label='Test')\n",
    "    ax2.set_title('Model loss')\n",
    "    ax2.set_ylabel('Loss')\n",
    "    ax2.set_xlabel('Epoch')\n",
    "    ax2.legend(loc='best')\n",
    "    ax2.grid()\n",
    "    plt.show()"
   ]
  },
  {
   "cell_type": "code",
   "execution_count": 56,
   "metadata": {},
   "outputs": [
    {
     "data": {
      "image/png": "[encoded data removed]",
      "text/plain": [
       "<Figure size 1080x360 with 2 Axes>"
      ]
     },
     "metadata": {
      "needs_background": "light"
     },
     "output_type": "display_data"
    }
   ],
   "source": [
    "plot(history)"
   ]
  },
  {
   "cell_type": "markdown",
   "metadata": {},
   "source": [
    "Entrainer le réseau plus longtemps (par augmentation du paramètre `epochs` peut permettre d'aumengenter les performances du réseau... mais les courbes de précision du test (*test accuracy*) restent asymptotiquement en-dessous des 98 %.\n"
   ]
  },
  {
   "cell_type": "markdown",
   "metadata": {},
   "source": [
    "# 5/ Vérication de l'apprentissage avec le jeu de test"
   ]
  },
  {
   "cell_type": "markdown",
   "metadata": {},
   "source": [
    "La méthode `predict`permet de demander au modèle sa prédiction pour une ou plusieurs entrées.<BR />\n",
    "Exemple de prédition pour une image test numéro i dans le jeu d'images de test (0 <= i <= 10000) :"
   ]
  },
  {
   "cell_type": "code",
   "execution_count": 28,
   "metadata": {},
   "outputs": [
    {
     "name": "stdout",
     "output_type": "stream",
     "text": [
      "valeur trouvée par le réseau de neurones : [0.0000 0.0000 0.0000 0.0005 0.0000 0.0000 0.0000 0.0000 0.0000 0.9995]\n",
      "valeur trouvée arrondie  : [0.0 0.0 0.0 0.0 0.0 0.0 0.0 0.0 0.0 1.0]\n",
      "rep[0].argmax() donne    : 9\n",
      "\n",
      "La bonne réponse est 9, soit en 'hot coded' : [0.0 0.0 0.0 0.0 0.0 0.0 0.0 0.0 0.0 1.0]\n"
     ]
    },
    {
     "data": {
      "image/png": "[encoded data removed]",
      "text/plain": [
       "<Figure size 72x72 with 1 Axes>"
      ]
     },
     "metadata": {},
     "output_type": "display_data"
    }
   ],
   "source": [
    "i = 1000\n",
    "rep = model.predict(x_test[i:i+1])\n",
    "\n",
    "np.set_printoptions(formatter={'float':'{:0.4f}'.format})\n",
    "print(\"valeur trouvée par le réseau de neurones :\", rep[0])\n",
    "\n",
    "np.set_printoptions(formatter={'float':'{:0.1f}'.format})\n",
    "print(\"valeur trouvée arrondie  : {}\".format(rep[0]))\n",
    "print(\"rep[0].argmax() donne    : {}\".format(rep[0].argmax()))\n",
    "\n",
    "plt.figure(figsize=(1,1))\n",
    "digit = image_test[i]\n",
    "plt.xticks([]); plt.yticks([])\n",
    "plt.imshow(digit, cmap='binary');\n",
    "print(f\"\\nLa bonne réponse est {etiq_test[i]}, soit en 'hot coded' : {y_test[i]}\")"
   ]
  },
  {
   "cell_type": "markdown",
   "metadata": {},
   "source": [
    "<span style=\"color:blue;font-family:arial\">Écrire les instructions Python pour calculer avec les données de test le pourcentage d'erreur du réseau entrainé.... <br/> \n",
    "Conseil: la variable rep contient pour chaque image une liste de 10 probabilités, il pourra être utile d'utiliser la fonction argmax de la librairie numpy pour obtenir le chiffre de plus haute probabilité.</span>\n"
   ]
  },
  {
   "cell_type": "code",
   "execution_count": 29,
   "metadata": {},
   "outputs": [
    {
     "name": "stdout",
     "output_type": "stream",
     "text": [
      "taux de réussite :  98.14 %\n"
     ]
    }
   ],
   "source": [
    "results = model.predict_on_batch(x_test)\n",
    "bonne_rep = 0\n",
    "for i, res in enumerate(results):\n",
    "    bonne_rep += (np.argmax(res) == etiq_test[i])\n",
    "print(f\"taux de réussite : {bonne_rep/len(x_test)*100 : .2f} %\")"
   ]
  },
  {
   "cell_type": "markdown",
   "metadata": {},
   "source": [
    "# 6/ Évolution du réseau : augmentation du nombre de couches cahées "
   ]
  },
  {
   "cell_type": "code",
   "execution_count": 30,
   "metadata": {},
   "outputs": [],
   "source": [
    "import numpy as np\n",
    "from keras.models import Sequential\n",
    "from keras.layers import Dense \n",
    "\n",
    "nb_classes = len(y_train[0])\n",
    "\n",
    "model2 = Sequential()\n",
    "\n",
    "model2.add(Dense(784, input_dim=nb_pixels, kernel_initializer='normal', activation='relu'))\n",
    "model2.add(Dense(300, kernel_initializer='normal', activation='relu'))\n",
    "model2.add(Dense(100, kernel_initializer='normal', activation='relu'))\n",
    "model2.add(Dense(nb_classes, kernel_initializer='normal', activation='softmax'))\n",
    "\n",
    "model2.compile(loss='categorical_crossentropy', optimizer='adam', metrics=['accuracy'])"
   ]
  },
  {
   "cell_type": "markdown",
   "metadata": {},
   "source": [
    "<span style=\"color:blue;font-family:arial\">Avec la méthode `summary` de l'objet `model2`, faire afficher la description du modèle : expliquer les valeurs des paramètres ?</span>"
   ]
  },
  {
   "cell_type": "code",
   "execution_count": 31,
   "metadata": {},
   "outputs": [
    {
     "name": "stdout",
     "output_type": "stream",
     "text": [
      "_________________________________________________________________\n",
      "Layer (type)                 Output Shape              Param #   \n",
      "=================================================================\n",
      "dense_3 (Dense)              (None, 784)               615440    \n",
      "_________________________________________________________________\n",
      "dense_4 (Dense)              (None, 300)               235500    \n",
      "_________________________________________________________________\n",
      "dense_5 (Dense)              (None, 100)               30100     \n",
      "_________________________________________________________________\n",
      "dense_6 (Dense)              (None, 10)                1010      \n",
      "=================================================================\n",
      "Total params: 882,050\n",
      "Trainable params: 882,050\n",
      "Non-trainable params: 0\n",
      "_________________________________________________________________\n"
     ]
    }
   ],
   "source": [
    "model2.summary()"
   ]
  },
  {
   "cell_type": "code",
   "execution_count": 32,
   "metadata": {},
   "outputs": [
    {
     "name": "stdout",
     "output_type": "stream",
     "text": [
      "Train on 60000 samples, validate on 10000 samples\n",
      "Epoch 1/10\n",
      "60000/60000 [==============================] - 11s 176us/step - loss: 0.2872 - acc: 0.9165 - val_loss: 0.1160 - val_acc: 0.9641\n",
      "Epoch 2/10\n",
      "60000/60000 [==============================] - 9s 155us/step - loss: 0.0941 - acc: 0.9716 - val_loss: 0.0799 - val_acc: 0.9766\n",
      "Epoch 3/10\n",
      "60000/60000 [==============================] - 12s 201us/step - loss: 0.0592 - acc: 0.9820 - val_loss: 0.0730 - val_acc: 0.9759\n",
      "Epoch 4/10\n",
      "60000/60000 [==============================] - 12s 205us/step - loss: 0.0410 - acc: 0.9870 - val_loss: 0.0682 - val_acc: 0.9782\n",
      "Epoch 5/10\n",
      "60000/60000 [==============================] - 9s 148us/step - loss: 0.0291 - acc: 0.9909 - val_loss: 0.0848 - val_acc: 0.9760\n",
      "Epoch 6/10\n",
      "60000/60000 [==============================] - 9s 145us/step - loss: 0.0246 - acc: 0.9920 - val_loss: 0.0681 - val_acc: 0.9808\n",
      "Epoch 7/10\n",
      "60000/60000 [==============================] - 9s 150us/step - loss: 0.0191 - acc: 0.9933 - val_loss: 0.0753 - val_acc: 0.9806\n",
      "Epoch 8/10\n",
      "60000/60000 [==============================] - 9s 152us/step - loss: 0.0163 - acc: 0.9948 - val_loss: 0.0857 - val_acc: 0.9777\n",
      "Epoch 9/10\n",
      "60000/60000 [==============================] - 9s 152us/step - loss: 0.0126 - acc: 0.9958 - val_loss: 0.0780 - val_acc: 0.9814\n",
      "Epoch 10/10\n",
      "60000/60000 [==============================] - 9s 151us/step - loss: 0.0135 - acc: 0.9959 - val_loss: 0.0865 - val_acc: 0.9798\n"
     ]
    }
   ],
   "source": [
    "history2 = model2.fit(x_train, y_train, validation_data=(x_test, y_test), epochs=10, batch_size=200, verbose=1)"
   ]
  },
  {
   "cell_type": "code",
   "execution_count": 33,
   "metadata": {},
   "outputs": [
    {
     "data": {
      "image/png": "[encoded data removed]",
      "text/plain": [
       "<Figure size 1080x360 with 2 Axes>"
      ]
     },
     "metadata": {
      "needs_background": "light"
     },
     "output_type": "display_data"
    }
   ],
   "source": [
    "plot(history2)"
   ]
  },
  {
   "cell_type": "markdown",
   "metadata": {},
   "source": [
    "<span style=\"color:blue;font-family:arial\"> Augmenter le nombre de couches a t'il un impact sur les performances du réseau (> 98.5%) ? Que peut on conclure sur l'utilité de complexifier ce type de réseau ? </span>"
   ]
  },
  {
   "cell_type": "markdown",
   "metadata": {},
   "source": [
    "À priori, on peut voir que cela n'a pas un grand impact, la reconnaissance lors des tests tourne toujours autour des 98%, il semble donc peu utile de complexifier ce type de réseau..."
   ]
  },
  {
   "cell_type": "markdown",
   "metadata": {},
   "source": [
    "# 7/ Utiliser le réseau avec ses propres images"
   ]
  },
  {
   "cell_type": "markdown",
   "metadata": {},
   "source": [
    "On va utiliser le réseau entrainé pour voir comment il réagi avec des chiffres \"écrits à la main\" (ou à la souris...) très différents des chiffres de la banque MNIST..."
   ]
  },
  {
   "cell_type": "code",
   "execution_count": 139,
   "metadata": {},
   "outputs": [
    {
     "name": "stdout",
     "output_type": "stream",
     "text": [
      "Liste des images envoyées : [\"chiffres/ce n'est pas un deux.png\", 'chiffres/1_jlc.png.png', 'chiffres/3_jlc.png', 'chiffres/essa1.png', 'chiffres/chaval de 3.png', 'chiffres/4_jlc.png.png', 'chiffres/2_jlc.png.png', 'chiffres/3_jlc.png.png']\n"
     ]
    }
   ],
   "source": [
    "import os\n",
    "images = ['chiffres/'+f for f in os.listdir('chiffres') if f.endswith(\".png\") or f.endswith(\".jpg\")]\n",
    "print(f\"Liste des images envoyées : {images}\")"
   ]
  },
  {
   "cell_type": "markdown",
   "metadata": {},
   "source": [
    "### Option : lecture des fichiers image avec openCV"
   ]
  },
  {
   "cell_type": "code",
   "execution_count": 232,
   "metadata": {},
   "outputs": [
    {
     "data": {
      "text/plain": [
       "((8, 28, 28), dtype('uint8'))"
      ]
     },
     "execution_count": 232,
     "metadata": {},
     "output_type": "execute_result"
    }
   ],
   "source": [
    "import cv2\n",
    "# lecture des images -> matrices ndarray 28x28 \n",
    "input_data = [255-cv2.cvtColor(cv2.imread(image),cv2.COLOR_BGR2GRAY) for image in images]\n",
    "input_data = np.array(input_data)\n",
    "input_data.shape, input_data.dtype  # on doit avoir 4 matrices de 28 x 28 valeurs "
   ]
  },
  {
   "cell_type": "markdown",
   "metadata": {},
   "source": [
    "#### Visualistion des images :"
   ]
  },
  {
   "cell_type": "code",
   "execution_count": 233,
   "metadata": {},
   "outputs": [
    {
     "data": {
      "image/png": "[encoded data removed]",
      "text/plain": [
       "<Figure size 1296x432 with 8 Axes>"
      ]
     },
     "metadata": {},
     "output_type": "display_data"
    }
   ],
   "source": [
    "plt.figure(figsize=(18,6))\n",
    "for i,M in enumerate(input_data):  \n",
    "    plt.subplot(1,12,i+1)\n",
    "    plt.imshow(input_data[i], cmap='binary', interpolation='none');\n",
    "    plt.xticks([]); plt.yticks([])"
   ]
  },
  {
   "cell_type": "markdown",
   "metadata": {},
   "source": [
    "transformation des matrices 28x28 en vecteurs de float normalisés :"
   ]
  },
  {
   "cell_type": "code",
   "execution_count": 234,
   "metadata": {},
   "outputs": [],
   "source": [
    "nb_images = input_data.shape[0]\n",
    "# mise 'à plat' des matrices sous forme de vecteurs de floats :\n",
    "x_photo = input_data.reshape(nb_images, 28*28).astype('float32')\n",
    "# normalisation des données :\n",
    "x_photo /= 255"
   ]
  },
  {
   "cell_type": "markdown",
   "metadata": {},
   "source": [
    "prédiction du réseau entrainé, avec les images perso :"
   ]
  },
  {
   "cell_type": "code",
   "execution_count": 235,
   "metadata": {},
   "outputs": [
    {
     "name": "stdout",
     "output_type": "stream",
     "text": [
      "[[0.000 0.000 1.000 0.000 0.000 0.000 0.000 0.000 0.000 0.000]\n",
      " [0.000 0.959 0.000 0.006 0.001 0.010 0.007 0.004 0.007 0.005]\n",
      " [0.000 0.000 0.000 1.000 0.000 0.000 0.000 0.000 0.000 0.000]\n",
      " [0.000 0.995 0.004 0.000 0.000 0.000 0.000 0.000 0.000 0.000]\n",
      " [0.000 0.000 0.000 1.000 0.000 0.000 0.000 0.000 0.000 0.000]\n",
      " [0.000 0.000 0.000 0.000 0.996 0.001 0.003 0.000 0.000 0.000]\n",
      " [0.000 0.000 0.963 0.005 0.000 0.008 0.000 0.000 0.024 0.000]\n",
      " [0.000 0.001 0.001 0.997 0.000 0.000 0.000 0.000 0.001 0.000]]\n"
     ]
    }
   ],
   "source": [
    "np.set_printoptions(formatter={'float': '{:0.3f}'.format})\n",
    "rep = model.predict(x_photo)\n",
    "print(rep)"
   ]
  },
  {
   "cell_type": "code",
   "execution_count": 236,
   "metadata": {},
   "outputs": [
    {
     "data": {
      "text/plain": [
       "[2, 1, 3, 1, 3, 4, 2, 3]"
      ]
     },
     "execution_count": 236,
     "metadata": {},
     "output_type": "execute_result"
    }
   ],
   "source": [
    "[r.argmax() for r in rep]"
   ]
  },
  {
   "cell_type": "code",
   "execution_count": 237,
   "metadata": {},
   "outputs": [
    {
     "name": "stdout",
     "output_type": "stream",
     "text": [
      "[[0.000 0.000 1.000 0.000 0.000 0.000 0.000 0.000 0.000 0.000]\n",
      " [0.000 0.919 0.000 0.000 0.001 0.009 0.004 0.059 0.003 0.004]\n",
      " [0.000 0.000 0.000 1.000 0.000 0.000 0.000 0.000 0.000 0.000]\n",
      " [0.000 0.522 0.422 0.000 0.000 0.000 0.000 0.001 0.054 0.000]\n",
      " [0.000 0.000 0.000 1.000 0.000 0.000 0.000 0.000 0.000 0.000]\n",
      " [0.000 0.000 0.000 0.000 1.000 0.000 0.000 0.000 0.000 0.000]\n",
      " [0.000 0.000 1.000 0.000 0.000 0.000 0.000 0.000 0.000 0.000]\n",
      " [0.000 0.000 0.000 1.000 0.000 0.000 0.000 0.000 0.000 0.000]]\n"
     ]
    }
   ],
   "source": [
    "rep = model2.predict(x_photo)\n",
    "print(rep)"
   ]
  },
  {
   "cell_type": "code",
   "execution_count": 238,
   "metadata": {},
   "outputs": [
    {
     "data": {
      "text/plain": [
       "[2, 1, 3, 1, 3, 4, 2, 3]"
      ]
     },
     "execution_count": 238,
     "metadata": {},
     "output_type": "execute_result"
    }
   ],
   "source": [
    "[r.argmax() for r in rep]"
   ]
  },
  {
   "cell_type": "markdown",
   "metadata": {},
   "source": [
    "Le résultat n'est pas terrible : pour améliorer les performances du réseau il est nécessaire de changer d'architecture pour passer sur des réseaux de type **convolutionnel**, ce qui est l'objet du cahier IPython `TP_MNIS_Keras_convolutionnel.ipynb`."
   ]
  },
  {
   "cell_type": "markdown",
   "metadata": {},
   "source": [
    "# Suite....\n",
    "\n",
    "Si on essaye de rejouer plusieur fois de suite la création/entrainnement du réseau de neurones, on observe des résultats différents à chaque fois : à la création du réseau de neurones, les 623290 poids des neurones sont initialisés par tirages aléatoires...\n",
    "Chaque re-tirage aléatoire fournit un jeu de 623290 nombres différents, d'où un réseau entrainné différent...\n",
    "\n",
    "Pour obtenir un comportement **reproductible** sur plusieurs création/entrainnement ou sur plusieur machines, il faut configurer les générateurs de nombres aléatoires impliqués de façon à obtenir des suites aléatoires **reproductibles**.\n",
    "\n",
    "Ceci s'obtient en fixant la **graine** (*seed*) des générateurs aléatoires...."
   ]
  },
  {
   "cell_type": "code",
   "execution_count": null,
   "metadata": {},
   "outputs": [],
   "source": []
  }
 ],
 "metadata": {
  "kernelspec": {
   "display_name": "Python 3",
   "language": "python",
   "name": "python3"
  },
  "language_info": {
   "codemirror_mode": {
    "name": "ipython",
    "version": 3
   },
   "file_extension": ".py",
   "mimetype": "text/x-python",
   "name": "python",
   "nbconvert_exporter": "python",
   "pygments_lexer": "ipython3",
   "version": "3.6.5"
  }
 },
 "nbformat": 4,
 "nbformat_minor": 2
}
