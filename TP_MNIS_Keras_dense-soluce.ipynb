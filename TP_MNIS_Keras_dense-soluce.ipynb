{
 "cells": [
  {
   "cell_type": "markdown",
   "metadata": {},
   "source": [
    "    v1.1 2018/10/23 JLC Ajout image architecture réseau + correction fautes de frappe\n",
    "    v1.2 2019/06/13 BA  MAJ par Benjamin AILLOUD (stage L2 informatique)\n",
    "    v2.0 2019/06/16 JLC Reformulation version 2."
   ]
  },
  {
   "cell_type": "markdown",
   "metadata": {},
   "source": [
    "# Machine learning : les module Python Keras & tensorflow\n",
    "# Conception / entraînement / utilisation d'un réseau de neurones dédié à la reconnaissance de chiffres manuscrits."
   ]
  },
  {
   "cell_type": "markdown",
   "metadata": {},
   "source": [
    "# Les réseaux de neurones artificiels"
   ]
  },
  {
   "cell_type": "markdown",
   "metadata": {},
   "source": [
    "### Le neurone artificiel\n",
    "C'est une unité de traitement informatique programmé pour calculer la valeur de sa **fonction d'activation** en un point défini par la **combinaison linéaire de ses entrées** $\\Sigma_i w_i x_i - b$ :"
   ]
  },
  {
   "cell_type": "markdown",
   "metadata": {},
   "source": [
    "<img src=\"./figures/nn_1.png\" width=600 >"
   ]
  },
  {
   "cell_type": "markdown",
   "metadata": {},
   "source": [
    "### Fonction d'activation\n",
    "Les principaux rôles des fonctions d'activation des neurones artificiels sont :\n",
    "- donner au neurone artificiel un comportement **non linéaire** (avec par exemple des mécanismes de seuil, de saturation...)\n",
    "- fixer la plage de sortie de la valeur calculée par le neurone (par exemple sortie dans l'intervalle $[-1 ; 1]$, ou $[0 ; +\\infty[$\n",
    "\n",
    "Exmples de fonction d'activation couramment utilisées :<br />\n",
    "<img src=\"./figures/activationFunctions.png\">"
   ]
  },
  {
   "cell_type": "markdown",
   "metadata": {},
   "source": [
    "### Banques d'images MNIST\n",
    "\n",
    "Dans ce travail, nous utiliserons les images de la banque d'images MNIST disponible sur Internet (http://yann.lecun.com/exdb/mnist/).\n",
    "\n",
    "La banque MNIST propose des images en ton de gris de 28 $\\times$ 28 pixels (soit des matrice de 28 $\\times$ 28 d'entiers compris entre 0 et 255) qui seront mises sous la forme de vecteurs de 784 nombres `float` compris entre 0 et 1, pour constituer les entrées du réseau de neurones."
   ]
  },
  {
   "cell_type": "markdown",
   "metadata": {},
   "source": [
    "### Structure du réseau à construire \n",
    "Dans un premier temps on va construire un simple *réseau dense*, avec :\n",
    "- une couche d'entrée de 784 valeurs comprises entre 0 et 1 (les pixels de l'image 28 $\\times$ 28 mis sous forme de vecteur),\n",
    "- une couche caché de 784 neurones utilisant la fonction d'activation `relu`,\n",
    "- une couche de sortie à 10 neurones, pour la classification des images en 10 classes {0,1,2...9}, utilisant la fonction d'activation `softmax`, adaptée au traitement de classification."
   ]
  },
  {
   "cell_type": "markdown",
   "metadata": {},
   "source": [
    "<img src=\"./figures/archiReseau.png\" width=850>"
   ]
  },
  {
   "cell_type": "markdown",
   "metadata": {},
   "source": [
    "La fonction d'activation `softmax` utilisée pour les 10 neurones de la couche de sortie permet de \"faire ressortir\" la sortie $y_i$ de valeur la plus grande : `softmax` sera très proche de 1 pour le neurone fournissant la plus grande valeur $y_i$, alors que pour tous les autres neurones, la valeur  de `softmax` sera proche de zero."
   ]
  },
  {
   "cell_type": "markdown",
   "metadata": {},
   "source": [
    "<img src=\"./figures/softmax2.png\" width=300>"
   ]
  },
  {
   "cell_type": "markdown",
   "metadata": {},
   "source": [
    "# Prérequis"
   ]
  },
  {
   "cell_type": "code",
   "execution_count": 1,
   "metadata": {
    "scrolled": true
   },
   "outputs": [],
   "source": [
    "%matplotlib inline\n",
    "import matplotlib.pyplot as plt\n",
    "from IPython.display import Image"
   ]
  },
  {
   "cell_type": "markdown",
   "metadata": {},
   "source": [
    "### Installation des paquets Python :\n",
    "Dans une console de commande (\"*fenêtre prompt Anaconda*\" pour Windows, ou \"*terminal*\" pour Mac OS X ou GNU/Linux), taper la commande :\n",
    "\n",
    "    conda install keras\n",
    "    \n",
    "Importer le module `keras`et vérifier sa version (doit être 2.x.y) :    "
   ]
  },
  {
   "cell_type": "code",
   "execution_count": 2,
   "metadata": {},
   "outputs": [
    {
     "name": "stderr",
     "output_type": "stream",
     "text": [
      "Using TensorFlow backend.\n"
     ]
    },
    {
     "data": {
      "text/plain": [
       "'2.2.4'"
      ]
     },
     "execution_count": 2,
     "metadata": {},
     "output_type": "execute_result"
    }
   ],
   "source": [
    "import keras\n",
    "keras.__version__"
   ]
  },
  {
   "cell_type": "markdown",
   "metadata": {},
   "source": [
    "La documentation du module Python Keras (en anglais) est disponible sur https://keras.io."
   ]
  },
  {
   "cell_type": "markdown",
   "metadata": {},
   "source": [
    "# Travail à faire"
   ]
  },
  {
   "cell_type": "markdown",
   "metadata": {},
   "source": [
    "# 1/ Récupération du jeu de données MNIST :"
   ]
  },
  {
   "cell_type": "markdown",
   "metadata": {},
   "source": [
    "https://fr.wikipedia.org/wiki/Base_de_données_MNIST : La base de données MNIST (*Mixed National Institute of Standards and Technology*), est une base de données de chiffres écrits à la main. C'est un jeu de données très utilisé en apprentissage automatique.<br /><br />\n",
    "L'ensemble des images du jeu de données MNIST contient **60000 images d'apprentissage** et **10000 images de test**, soit en tout **70000 images** de 28 x 28 pixels."
   ]
  },
  {
   "cell_type": "code",
   "execution_count": 3,
   "metadata": {},
   "outputs": [],
   "source": [
    "# Load data from https://www.openml.org/d/554\n",
    "from keras.datasets import mnist\n",
    "(image_train, etiq_train), (image_test, etiq_test) = mnist.load_data() "
   ]
  },
  {
   "cell_type": "markdown",
   "metadata": {},
   "source": [
    "<span style=\"color:blue;font-family:arial\">Faire afficher le type des objets `image_train`, `etiq_train`, `image_test` et `etiq_test` :</span>"
   ]
  },
  {
   "cell_type": "code",
   "execution_count": 4,
   "metadata": {},
   "outputs": [
    {
     "name": "stdout",
     "output_type": "stream",
     "text": [
      "<class 'numpy.ndarray'>\n",
      "<class 'numpy.ndarray'>\n",
      "<class 'numpy.ndarray'>\n",
      "<class 'numpy.ndarray'>\n"
     ]
    }
   ],
   "source": [
    "objs = (image_train, etiq_train, image_test, etiq_test)\n",
    "for o in objs: print(type(o))"
   ]
  },
  {
   "cell_type": "markdown",
   "metadata": {},
   "source": [
    "<span style=\"color:blue;font-family:arial\">Faire afficher l'attribut `shape` des tableaux `image_train`, `etiq_train`, `image_test` et `etiq_test` -> interpréter les réponses :</span>"
   ]
  },
  {
   "cell_type": "code",
   "execution_count": 5,
   "metadata": {},
   "outputs": [
    {
     "name": "stdout",
     "output_type": "stream",
     "text": [
      "(60000, 28, 28)\n",
      "(60000,)\n",
      "(10000, 28, 28)\n",
      "(10000,)\n"
     ]
    }
   ],
   "source": [
    "for o in objs: print(o.shape)"
   ]
  },
  {
   "cell_type": "markdown",
   "metadata": {},
   "source": [
    "<span style=\"color:blue;font-family:arial\">Faire afficher le type des tableaux `image_train`, `etiq_train`, `image_test` et `etiq_test` -> interpréter les réponses :</span>"
   ]
  },
  {
   "cell_type": "code",
   "execution_count": 6,
   "metadata": {},
   "outputs": [
    {
     "name": "stdout",
     "output_type": "stream",
     "text": [
      "uint8\n",
      "uint8\n",
      "uint8\n",
      "uint8\n"
     ]
    }
   ],
   "source": [
    "for o in objs: print(o.dtype)"
   ]
  },
  {
   "cell_type": "markdown",
   "metadata": {},
   "source": [
    "## 1.1/ Vérification des étiquettes des données : "
   ]
  },
  {
   "cell_type": "markdown",
   "metadata": {},
   "source": [
    "<span style=\"color:blue;font-family:arial\">Faire afficher les 10 premières valeurs de `etiq_train` et `etiq_test` ; interpréter les réponses. </span>"
   ]
  },
  {
   "cell_type": "code",
   "execution_count": 7,
   "metadata": {},
   "outputs": [
    {
     "name": "stdout",
     "output_type": "stream",
     "text": [
      "[5 0 4 1 9 2 1 3 1 4]\n"
     ]
    }
   ],
   "source": [
    "print(etiq_train[:10])"
   ]
  },
  {
   "cell_type": "code",
   "execution_count": 8,
   "metadata": {},
   "outputs": [
    {
     "name": "stdout",
     "output_type": "stream",
     "text": [
      "[7 2 1 0 4 1 4 9 5 9]\n"
     ]
    }
   ],
   "source": [
    "print(etiq_test[:10])"
   ]
  },
  {
   "cell_type": "markdown",
   "metadata": {},
   "source": [
    "## 1.2/ Visualisation des images  :"
   ]
  },
  {
   "cell_type": "markdown",
   "metadata": {},
   "source": [
    "<span style=\"color:blue;font-family:arial;\">Avec la fonction `imshow` du module matplotlib.pyplot faire afficher l'image de rang 600 dans le tableau `image_train`.<br />\n",
    "Indications :<br />\n",
    "- utiliser `plt.figure(figsize=(5,5))`;<br />\n",
    "- passer l'argument `cmap='binary'` à la fonction `imshow`;<br/>\n",
    "- enlever les graduations en X et Y avec l'instruction  `plt.xticks([]); plt.yticks([])`.</span>"
   ]
  },
  {
   "cell_type": "code",
   "execution_count": 9,
   "metadata": {},
   "outputs": [
    {
     "data": {
      "image/png": "[encoded data removed]",
      "text/plain": [
       "<Figure size 360x360 with 1 Axes>"
      ]
     },
     "metadata": {},
     "output_type": "display_data"
    }
   ],
   "source": [
    "plt.figure(figsize=(5,5))\n",
    "import matplotlib.pyplot as plt\n",
    "plt.imshow(image_train[600],cmap='binary')\n",
    "plt.xticks([]) ; plt.yticks([]);"
   ]
  },
  {
   "cell_type": "markdown",
   "metadata": {},
   "source": [
    "<span style=\"color:blue;font-family:arial\">Vérifier que l'étiquette associée à `image_train[600]` est bien `9` :</span>"
   ]
  },
  {
   "cell_type": "code",
   "execution_count": 10,
   "metadata": {},
   "outputs": [
    {
     "data": {
      "text/plain": [
       "9"
      ]
     },
     "execution_count": 10,
     "metadata": {},
     "output_type": "execute_result"
    }
   ],
   "source": [
    "etiq_train[600]"
   ]
  },
  {
   "cell_type": "markdown",
   "metadata": {},
   "source": [
    "<span style=\"color:blue;font-family:arial\">Écrire une fonction `plotImage` qui prend les arguments qui vont bien pour afficher les images MNIST commençant au rang `r` sur `L` lignes et `C` colonnes (utiliser `plt.subplot`). La figure affichée doit avoir pour dimensions 10 x 10 pouces."
   ]
  },
  {
   "cell_type": "code",
   "execution_count": 11,
   "metadata": {},
   "outputs": [],
   "source": [
    "def plot_image(r,L,C):\n",
    "    plt.figure(figsize=(10,10))\n",
    "    for i in range(L*C):\n",
    "        plt.subplot(L, C, i+1)\n",
    "        plt.imshow(image_train[r+i],cmap='binary')\n",
    "        plt.xticks([])\n",
    "        plt.yticks([])\n"
   ]
  },
  {
   "cell_type": "markdown",
   "metadata": {},
   "source": [
    "<span style=\"color:blue;font-family:arial\">Fait afficher 100 images à partir de la 600 ème dans une grille de 10x10 : </span>"
   ]
  },
  {
   "cell_type": "code",
   "execution_count": 12,
   "metadata": {},
   "outputs": [
    {
     "data": {
      "image/png": "[encoded data removed]",
      "text/plain": [
       "<Figure size 720x720 with 100 Axes>"
      ]
     },
     "metadata": {},
     "output_type": "display_data"
    }
   ],
   "source": [
    "plot_image(600, 10, 10)"
   ]
  },
  {
   "cell_type": "markdown",
   "metadata": {},
   "source": [
    "# 2/ Pré-traitement des données"
   ]
  },
  {
   "cell_type": "markdown",
   "metadata": {},
   "source": [
    "**Le pré-traitement des données constitue une des étapes fondamentales de l'apprentissage des réseaux de neurones.**"
   ]
  },
  {
   "cell_type": "markdown",
   "metadata": {},
   "source": [
    "Pour adapter les données au réseau de neurones, on doit transformer les matrice d'entiers `uint8` représentant les images 24 x 24 pixels en vecteurs **normalisés** $(V_i)_{i=0..783}$ de 784 valeurs réelles $V_i$  avec $ 0 \\leqslant V_i \\leqslant 1.$"
   ]
  },
  {
   "cell_type": "markdown",
   "metadata": {},
   "source": [
    "## 2.1/ Transformation des matrices d'entrée en vecteurs normalisés :"
   ]
  },
  {
   "cell_type": "code",
   "execution_count": 13,
   "metadata": {},
   "outputs": [],
   "source": [
    "nb_image_train, nb_image_test = image_train.shape[0], image_test.shape[0]\n",
    "nb_pixels = image_train.shape[1] * image_train.shape[2]   # 28 x 28 = 784 pixels\n",
    "\n",
    "# mise 'à plat' des matrices sous forme de vecteurs de floats \n",
    "# Indications: utiliser les méthodes 'reshape(new_shape)' et astype('float32') de ndarray).\n",
    "x_train = image_train.reshape((nb_image_train, nb_pixels)).astype('float32')\n",
    "x_test  = image_test.reshape((nb_image_test, nb_pixels)).astype('float32')\n",
    "\n",
    "# normalisation des tableaux X_train et X_test :\n",
    "x_train = x_train/255\n",
    "x_test  = x_test/255"
   ]
  },
  {
   "cell_type": "markdown",
   "metadata": {},
   "source": [
    "<span style=\"color:blue;font-family:arial\">Vérifier la tailles des tableaux `x_train` et `x_test`  :</span>"
   ]
  },
  {
   "cell_type": "code",
   "execution_count": 14,
   "metadata": {},
   "outputs": [
    {
     "data": {
      "text/plain": [
       "((60000, 784), (10000, 784))"
      ]
     },
     "execution_count": 14,
     "metadata": {},
     "output_type": "execute_result"
    }
   ],
   "source": [
    "x_train.shape, x_test.shape"
   ]
  },
  {
   "cell_type": "markdown",
   "metadata": {},
   "source": [
    "## 2.2/ 'Hot coding' des étiquettes :"
   ]
  },
  {
   "cell_type": "markdown",
   "metadata": {},
   "source": [
    "Les étiquettes des images sont des valeurs entières comprises entre 0 et 9. Pour traiter efficacement le problème de classification, on utilise la technique de `hot encoding` qui remplace les valeurs des différentes classes par un vecteur de données comportant autant d'éléments que de classes.<br />\n",
    "Par exemple :\n",
    "- l'étiquette `0` sera transformée en la vecteur `[1 0 0 0 0 0 0 0 0 0]`.\n",
    "- l'étiquette `3` sera transformée en la vecteur `[0 0 0 1 0 0 0 0 0 0]`."
   ]
  },
  {
   "cell_type": "markdown",
   "metadata": {},
   "source": [
    "Pour réaliser le codage des étiquettes, oela on utilise la fonction `to_categorical` du module `keras.utils.np_utils` :"
   ]
  },
  {
   "cell_type": "code",
   "execution_count": 15,
   "metadata": {},
   "outputs": [],
   "source": [
    "from keras.utils.np_utils import to_categorical\n",
    "# 'hot encoding' des sorties :\n",
    "y_train = to_categorical(etiq_train)\n",
    "y_test  = to_categorical(etiq_test)"
   ]
  },
  {
   "cell_type": "markdown",
   "metadata": {},
   "source": [
    "<span style=\"color:blue;font-family:arial\">Faire afficher les 10 premières valeurs de `etiq_train` et les 10 premières valeurs `hot encoded` de `y_train` :</span>"
   ]
  },
  {
   "cell_type": "code",
   "execution_count": 16,
   "metadata": {},
   "outputs": [
    {
     "data": {
      "text/plain": [
       "array([5, 0, 4, 1, 9, 2, 1, 3, 1, 4], dtype=uint8)"
      ]
     },
     "execution_count": 16,
     "metadata": {},
     "output_type": "execute_result"
    }
   ],
   "source": [
    "etiq_train[:10]"
   ]
  },
  {
   "cell_type": "code",
   "execution_count": 17,
   "metadata": {},
   "outputs": [
    {
     "data": {
      "text/plain": [
       "array([[0., 0., 0., 0., 0., 1., 0., 0., 0., 0.],\n",
       "       [1., 0., 0., 0., 0., 0., 0., 0., 0., 0.],\n",
       "       [0., 0., 0., 0., 1., 0., 0., 0., 0., 0.],\n",
       "       [0., 1., 0., 0., 0., 0., 0., 0., 0., 0.],\n",
       "       [0., 0., 0., 0., 0., 0., 0., 0., 0., 1.],\n",
       "       [0., 0., 1., 0., 0., 0., 0., 0., 0., 0.],\n",
       "       [0., 1., 0., 0., 0., 0., 0., 0., 0., 0.],\n",
       "       [0., 0., 0., 1., 0., 0., 0., 0., 0., 0.],\n",
       "       [0., 1., 0., 0., 0., 0., 0., 0., 0., 0.],\n",
       "       [0., 0., 0., 0., 1., 0., 0., 0., 0., 0.]], dtype=float32)"
      ]
     },
     "execution_count": 17,
     "metadata": {},
     "output_type": "execute_result"
    }
   ],
   "source": [
    "y_train[:10]"
   ]
  },
  {
   "cell_type": "code",
   "execution_count": 18,
   "metadata": {},
   "outputs": [
    {
     "data": {
      "text/plain": [
       "10"
      ]
     },
     "execution_count": 18,
     "metadata": {},
     "output_type": "execute_result"
    }
   ],
   "source": [
    "len(y_train[0])"
   ]
  },
  {
   "cell_type": "markdown",
   "metadata": {},
   "source": [
    "# 3/ Construction du réseau de neurones :"
   ]
  },
  {
   "cell_type": "markdown",
   "metadata": {},
   "source": [
    "On va maintenant construire un réseau de neurone s**équentiel** (cf https://keras.io/models/sequential ) en **4 lignes** à l'aide du module **keras** qui permet une manipulation *high level* des outils proposés par le module Python **tensorflow**.<br />\n",
    "\n",
    "Les spécifications du réseau de neurones à construire sont :\n",
    "- les entrées sont constituées des 784 pixels, mis sous forme d'un vecteur normalisé ;\n",
    "- le réseau de neurones comporte une couche de 784 neurones utilisant la fonction d'activation `relu` (*retified linear unit*, voir https://keras.io/activations) ;\n",
    "- la couche de sortie comporte 10 neurones utilisant la fonction d'activation `softmax` pour convertir les sorties en valeur de probalibilités permettant de choisir une des 10 classes ;\n",
    "- la fonction d'erreur (différence entre étiquette et valeur prédite par le réseau) est `Logarithmic loss` (dans Keras elle coorepnd à la *loss function* `categorical_crossentropy`) ;\n",
    "- l'algorithme de descente de gradient ADAM est utilisé pour l'optimisation des poids des neurones par rétro-progation de l'erreur. "
   ]
  },
  {
   "cell_type": "markdown",
   "metadata": {},
   "source": [
    "La **fonction d'erreur** (*loss function*) utilisée pour quantifier l'erreur entre l'étiquette associée aux données d'entrée est disponible dans keras sous le nom `categorical_crossentropy`:"
   ]
  },
  {
   "cell_type": "markdown",
   "metadata": {},
   "source": [
    "<img src=\"./figures/CrossEntropy2.png\" width=650>"
   ]
  },
  {
   "cell_type": "code",
   "execution_count": 19,
   "metadata": {},
   "outputs": [
    {
     "name": "stdout",
     "output_type": "stream",
     "text": [
      "WARNING:tensorflow:From /home/jlc/work/miniconda3/envs/minfo/lib/python3.6/site-packages/tensorflow/python/framework/op_def_library.py:263: colocate_with (from tensorflow.python.framework.ops) is deprecated and will be removed in a future version.\n",
      "Instructions for updating:\n",
      "Colocations handled automatically by placer.\n"
     ]
    }
   ],
   "source": [
    "import numpy as np\n",
    "from keras.models import Sequential\n",
    "from keras.layers import Dense \n",
    "\n",
    "nb_classes = len(y_train[0])\n",
    "\n",
    "# les 4 lignes pour construire le réseau de neurones:\n",
    "model = Sequential()\n",
    "model.add(Dense(nb_pixels, input_dim=nb_pixels, kernel_initializer='normal', activation='relu'))\n",
    "model.add(Dense(nb_classes, kernel_initializer='normal', activation='softmax'))\n",
    "model.compile(loss='categorical_crossentropy', optimizer='adam', metrics=['accuracy'])"
   ]
  },
  {
   "cell_type": "markdown",
   "metadata": {},
   "source": [
    "<span style=\"color:blue;font-family:arial\">Avec la méthode `summary` de l'objet `model`, faire afficher la description du modèle : expliquer les valeurs des paramètres ?</span>"
   ]
  },
  {
   "cell_type": "code",
   "execution_count": 20,
   "metadata": {},
   "outputs": [
    {
     "name": "stdout",
     "output_type": "stream",
     "text": [
      "_________________________________________________________________\n",
      "Layer (type)                 Output Shape              Param #   \n",
      "=================================================================\n",
      "dense_1 (Dense)              (None, 784)               615440    \n",
      "_________________________________________________________________\n",
      "dense_2 (Dense)              (None, 10)                7850      \n",
      "=================================================================\n",
      "Total params: 623,290\n",
      "Trainable params: 623,290\n",
      "Non-trainable params: 0\n",
      "_________________________________________________________________\n"
     ]
    }
   ],
   "source": [
    "model.summary()"
   ]
  },
  {
   "cell_type": "code",
   "execution_count": null,
   "metadata": {},
   "outputs": [],
   "source": [
    "784*785 + 10*785"
   ]
  },
  {
   "cell_type": "markdown",
   "metadata": {},
   "source": [
    "# 4/ Entrainnement du réseau :"
   ]
  },
  {
   "cell_type": "markdown",
   "metadata": {},
   "source": [
    "Le modèle est entraîné sur les $60\\,000$ images,\n",
    "- 10 fois de suite (paramètre `epochs`), \n",
    "- avec mises à jour des poids toutes les 200 images (paramètre `batch_size`),\n",
    "en utilisant les données d'entrée `x_train` (images) et les données de sortie `y_train` (étiquettes) :"
   ]
  },
  {
   "cell_type": "code",
   "execution_count": 22,
   "metadata": {},
   "outputs": [
    {
     "name": "stdout",
     "output_type": "stream",
     "text": [
      "WARNING:tensorflow:From /home/jlc/work/miniconda3/envs/minfo/lib/python3.6/site-packages/tensorflow/python/ops/math_ops.py:3066: to_int32 (from tensorflow.python.ops.math_ops) is deprecated and will be removed in a future version.\n",
      "Instructions for updating:\n",
      "Use tf.cast instead.\n",
      "Train on 60000 samples, validate on 10000 samples\n",
      "Epoch 1/10\n",
      "60000/60000 [==============================] - 6s 102us/step - loss: 0.2763 - acc: 0.9222 - val_loss: 0.1409 - val_acc: 0.9585\n",
      "Epoch 2/10\n",
      "60000/60000 [==============================] - 5s 90us/step - loss: 0.1110 - acc: 0.9681 - val_loss: 0.0933 - val_acc: 0.9708\n",
      "Epoch 3/10\n",
      "60000/60000 [==============================] - 5s 84us/step - loss: 0.0709 - acc: 0.9799 - val_loss: 0.0769 - val_acc: 0.9772\n",
      "Epoch 4/10\n",
      "60000/60000 [==============================] - 5s 85us/step - loss: 0.0485 - acc: 0.9863 - val_loss: 0.0664 - val_acc: 0.9802\n",
      "Epoch 5/10\n",
      "60000/60000 [==============================] - 5s 84us/step - loss: 0.0353 - acc: 0.9902 - val_loss: 0.0655 - val_acc: 0.9788\n",
      "Epoch 6/10\n",
      "60000/60000 [==============================] - 5s 90us/step - loss: 0.0258 - acc: 0.9931 - val_loss: 0.0604 - val_acc: 0.9796\n",
      "Epoch 7/10\n",
      "60000/60000 [==============================] - 5s 84us/step - loss: 0.0196 - acc: 0.9952 - val_loss: 0.0622 - val_acc: 0.9806\n",
      "Epoch 8/10\n",
      "60000/60000 [==============================] - 5s 92us/step - loss: 0.0138 - acc: 0.9971 - val_loss: 0.0611 - val_acc: 0.9808\n",
      "Epoch 9/10\n",
      "60000/60000 [==============================] - 6s 94us/step - loss: 0.0112 - acc: 0.9977 - val_loss: 0.0657 - val_acc: 0.9798\n",
      "Epoch 10/10\n",
      "60000/60000 [==============================] - 5s 88us/step - loss: 0.0089 - acc: 0.9983 - val_loss: 0.0620 - val_acc: 0.9817\n"
     ]
    }
   ],
   "source": [
    "history = model.fit(x_train, y_train, validation_data=(x_test, y_test), epochs=10, batch_size=200, verbose=1)"
   ]
  },
  {
   "cell_type": "markdown",
   "metadata": {},
   "source": [
    "### Tracé des courbes `accuracy` et `loss` :"
   ]
  },
  {
   "cell_type": "code",
   "execution_count": 23,
   "metadata": {},
   "outputs": [],
   "source": [
    "def plot(history):\n",
    "    # Plot training & validation accuracy values\n",
    "    plt.figure(figsize=(15,5))\n",
    "    ax1 = plt.subplot(1,2,1)\n",
    "    ax1.plot(history.history['acc'], 'o-',label='Train')\n",
    "    ax1.plot(history.history['val_acc'], 'o-', label='Test')\n",
    "    ax1.set_title('Model accuracy')\n",
    "    ax1.set_ylabel('Accuracy')\n",
    "    ax1.set_xlabel('Epoch') \n",
    "    ax1.grid()\n",
    "    ax1.legend(loc='best')\n",
    "    # Plot training & validation loss values\n",
    "    ax2 = plt.subplot(1,2,2)\n",
    "    ax2.plot(history.history['loss'], 'o-', label='Train')\n",
    "    ax2.plot(history.history['val_loss'], 'o-',  label='Test')\n",
    "    ax2.set_title('Model loss')\n",
    "    ax2.set_ylabel('Loss')\n",
    "    ax2.set_xlabel('Epoch')\n",
    "    ax2.legend(loc='best')\n",
    "    ax2.grid()\n",
    "    plt.show()"
   ]
  },
  {
   "cell_type": "code",
   "execution_count": 24,
   "metadata": {},
   "outputs": [
    {
     "data": {
      "image/png": "[encoded data removed]",
      "text/plain": [
       "<Figure size 1080x360 with 2 Axes>"
      ]
     },
     "metadata": {
      "needs_background": "light"
     },
     "output_type": "display_data"
    }
   ],
   "source": [
    "plot(history)"
   ]
  },
  {
   "cell_type": "markdown",
   "metadata": {},
   "source": [
    "Entrainer le réseau plus longtemps (par augmentation du paramètre `epochs` peut permettre d'aumengenter les performances du réseau... mais les courbes de précision du test (*test accuracy*) restent asymptotiquement en-dessous des 98 %.\n"
   ]
  },
  {
   "cell_type": "markdown",
   "metadata": {},
   "source": [
    "# 5/ Vérication de l'apprentissage avec le jeu de test"
   ]
  },
  {
   "cell_type": "markdown",
   "metadata": {},
   "source": [
    "La méthode `predict`permet de demander au modèle sa prédiction pour une ou plusieurs entrées.<BR />\n",
    "Exemple de prédition pour une image test numéro i dans le jeu d'images de test (0 <= i <= 10000) :"
   ]
  },
  {
   "cell_type": "code",
   "execution_count": 25,
   "metadata": {},
   "outputs": [
    {
     "name": "stdout",
     "output_type": "stream",
     "text": [
      "valeur trouvée par le réseau de neurones : [0.0000 0.0000 0.0000 0.0018 0.0000 0.0000 0.0000 0.0006 0.0000 0.9976]\n",
      "valeur trouvée arrondie  : [0.0 0.0 0.0 0.0 0.0 0.0 0.0 0.0 0.0 1.0]\n",
      "rep[0].argmax() donne    : 9\n",
      "\n",
      "La bonne réponse est 9, soit en 'hot coded' : [0.0 0.0 0.0 0.0 0.0 0.0 0.0 0.0 0.0 1.0]\n"
     ]
    },
    {
     "data": {
      "image/png": "[encoded data removed]",
      "text/plain": [
       "<Figure size 72x72 with 1 Axes>"
      ]
     },
     "metadata": {},
     "output_type": "display_data"
    }
   ],
   "source": [
    "i = 1000\n",
    "rep = model.predict(x_test[i:i+1])\n",
    "\n",
    "np.set_printoptions(formatter={'float':'{:0.4f}'.format})\n",
    "print(\"valeur trouvée par le réseau de neurones :\", rep[0])\n",
    "\n",
    "np.set_printoptions(formatter={'float':'{:0.1f}'.format})\n",
    "print(\"valeur trouvée arrondie  : {}\".format(rep[0]))\n",
    "print(\"rep[0].argmax() donne    : {}\".format(rep[0].argmax()))\n",
    "\n",
    "plt.figure(figsize=(1,1))\n",
    "digit = image_test[i]\n",
    "plt.xticks([]); plt.yticks([])\n",
    "plt.imshow(digit, cmap='binary');\n",
    "print(f\"\\nLa bonne réponse est {etiq_test[i]}, soit en 'hot coded' : {y_test[i]}\")"
   ]
  },
  {
   "cell_type": "markdown",
   "metadata": {},
   "source": [
    "<span style=\"color:blue;font-family:arial\">Écrire les instructions Python pour calculer avec les données de test le pourcentage d'erreur du réseau entrainé.... <br/> \n",
    "Conseil: la variable rep contient pour chaque image une liste de 10 probabilités, il pourra être utile d'utiliser la fonction argmax de la librairie numpy pour obtenir le chiffre de plus haute probabilité.</span>\n"
   ]
  },
  {
   "cell_type": "code",
   "execution_count": 26,
   "metadata": {},
   "outputs": [
    {
     "name": "stdout",
     "output_type": "stream",
     "text": [
      "taux de réussite :  98.17 %\n"
     ]
    }
   ],
   "source": [
    "results = model.predict_on_batch(x_test)\n",
    "bonne_rep = 0\n",
    "for i, res in enumerate(results):\n",
    "    bonne_rep += (np.argmax(res) == etiq_test[i])\n",
    "print(f\"taux de réussite : {bonne_rep/len(x_test)*100 : .2f} %\")"
   ]
  },
  {
   "cell_type": "markdown",
   "metadata": {},
   "source": [
    "# 6/ Évolution du réseau : augmentation du nombre de couches cahées "
   ]
  },
  {
   "cell_type": "code",
   "execution_count": 27,
   "metadata": {},
   "outputs": [],
   "source": [
    "import numpy as np\n",
    "from keras.models import Sequential\n",
    "from keras.layers import Dense \n",
    "\n",
    "nb_classes = len(y_train[0])\n",
    "\n",
    "model2 = Sequential()\n",
    "\n",
    "model2.add(Dense(784, input_dim=nb_pixels, kernel_initializer='normal', activation='relu'))\n",
    "model2.add(Dense(300, kernel_initializer='normal', activation='relu'))\n",
    "model2.add(Dense(100, kernel_initializer='normal', activation='relu'))\n",
    "model2.add(Dense(nb_classes, kernel_initializer='normal', activation='softmax'))\n",
    "\n",
    "model2.compile(loss='categorical_crossentropy', optimizer='adam', metrics=['accuracy'])"
   ]
  },
  {
   "cell_type": "markdown",
   "metadata": {},
   "source": [
    "<span style=\"color:blue;font-family:arial\">Avec la méthode `summary` de l'objet `model2`, faire afficher la description du modèle : expliquer les valeurs des paramètres ?</span>"
   ]
  },
  {
   "cell_type": "code",
   "execution_count": 28,
   "metadata": {},
   "outputs": [
    {
     "name": "stdout",
     "output_type": "stream",
     "text": [
      "_________________________________________________________________\n",
      "Layer (type)                 Output Shape              Param #   \n",
      "=================================================================\n",
      "dense_3 (Dense)              (None, 784)               615440    \n",
      "_________________________________________________________________\n",
      "dense_4 (Dense)              (None, 300)               235500    \n",
      "_________________________________________________________________\n",
      "dense_5 (Dense)              (None, 100)               30100     \n",
      "_________________________________________________________________\n",
      "dense_6 (Dense)              (None, 10)                1010      \n",
      "=================================================================\n",
      "Total params: 882,050\n",
      "Trainable params: 882,050\n",
      "Non-trainable params: 0\n",
      "_________________________________________________________________\n"
     ]
    }
   ],
   "source": [
    "model2.summary()"
   ]
  },
  {
   "cell_type": "code",
   "execution_count": 29,
   "metadata": {},
   "outputs": [
    {
     "name": "stdout",
     "output_type": "stream",
     "text": [
      "Train on 60000 samples, validate on 10000 samples\n",
      "Epoch 1/10\n",
      "60000/60000 [==============================] - 8s 137us/step - loss: 0.2894 - acc: 0.9156 - val_loss: 0.1192 - val_acc: 0.9615\n",
      "Epoch 2/10\n",
      "60000/60000 [==============================] - 7s 117us/step - loss: 0.0955 - acc: 0.9704 - val_loss: 0.1136 - val_acc: 0.9647\n",
      "Epoch 3/10\n",
      "60000/60000 [==============================] - 9s 152us/step - loss: 0.0576 - acc: 0.9819 - val_loss: 0.0705 - val_acc: 0.9780\n",
      "Epoch 4/10\n",
      "60000/60000 [==============================] - 7s 115us/step - loss: 0.0393 - acc: 0.9878 - val_loss: 0.0737 - val_acc: 0.9784\n",
      "Epoch 5/10\n",
      "60000/60000 [==============================] - 7s 117us/step - loss: 0.0294 - acc: 0.9908 - val_loss: 0.0668 - val_acc: 0.9809\n",
      "Epoch 6/10\n",
      "60000/60000 [==============================] - 7s 115us/step - loss: 0.0216 - acc: 0.9929 - val_loss: 0.0668 - val_acc: 0.9804\n",
      "Epoch 7/10\n",
      "60000/60000 [==============================] - 7s 115us/step - loss: 0.0178 - acc: 0.9940 - val_loss: 0.0816 - val_acc: 0.9785\n",
      "Epoch 8/10\n",
      "60000/60000 [==============================] - 7s 117us/step - loss: 0.0170 - acc: 0.9945 - val_loss: 0.0706 - val_acc: 0.9820\n",
      "Epoch 9/10\n",
      "60000/60000 [==============================] - 7s 113us/step - loss: 0.0153 - acc: 0.9948 - val_loss: 0.0762 - val_acc: 0.9812\n",
      "Epoch 10/10\n",
      "60000/60000 [==============================] - 7s 118us/step - loss: 0.0100 - acc: 0.9968 - val_loss: 0.0851 - val_acc: 0.9793\n"
     ]
    }
   ],
   "source": [
    "history2 = model2.fit(x_train, y_train, validation_data=(x_test, y_test), epochs=10, batch_size=200, verbose=1)"
   ]
  },
  {
   "cell_type": "code",
   "execution_count": 30,
   "metadata": {},
   "outputs": [
    {
     "data": {
      "image/png": "[encoded data removed]",
      "text/plain": [
       "<Figure size 1080x360 with 2 Axes>"
      ]
     },
     "metadata": {
      "needs_background": "light"
     },
     "output_type": "display_data"
    }
   ],
   "source": [
    "plot(history2)"
   ]
  },
  {
   "cell_type": "markdown",
   "metadata": {},
   "source": [
    "<span style=\"color:blue;font-family:arial\"> Augmenter le nombre de couches a t'il un impact sur les performances du réseau (> 98.5%) ? Que peut on conclure sur l'utilité de complexifier ce type de réseau ? </span>"
   ]
  },
  {
   "cell_type": "markdown",
   "metadata": {},
   "source": [
    "À priori, on peut voir que cela n'a pas un grand impact, la reconnaissance lors des tests tourne toujours autour des 98%, il semble donc peu utile de complexifier ce type de réseau..."
   ]
  },
  {
   "cell_type": "markdown",
   "metadata": {},
   "source": [
    "# 7/ Utiliser le réseau avec ses propres images"
   ]
  },
  {
   "cell_type": "markdown",
   "metadata": {},
   "source": [
    "On va utiliser le réseau entrainé pour voir comment il réagi avec des chiffres \"écrits à la main\" (ou à la souris...) très différents des chiffres de la banque MNIST..."
   ]
  },
  {
   "cell_type": "code",
   "execution_count": 42,
   "metadata": {},
   "outputs": [
    {
     "name": "stdout",
     "output_type": "stream",
     "text": [
      "Liste des images envoyées : [\"chiffres/ce n'est pas un deux.png\", 'chiffres/septFrançais.png', 'chiffres/6jlc.png', 'chiffres/essa1.png', 'chiffres/cinq.png', 'chiffres/chaval de 3.png', 'chiffres/septAmericain.png']\n"
     ]
    }
   ],
   "source": [
    "import os\n",
    "images = ['chiffres/'+f for f in os.listdir('chiffres') if f.endswith(\".png\") or f.endswith(\".jpg\")]\n",
    "print(f\"Liste des images envoyées : {images}\")"
   ]
  },
  {
   "cell_type": "markdown",
   "metadata": {},
   "source": [
    "### Option : lecture des fichiers image avec openCV\n",
    "\n",
    "Si le module `openCV` n'est pas installé, il faut taper dans la \"fenêtre prompt anaconda\" (Windows) ou dans le \"terminal\" (Mac Os X ou GNU/Linux) :\n",
    "\n",
    "    conda install -c anaconda openCV\n",
    "    \n",
    "Puis bien penser à faire un **kernel restart** ... et rejouer les cellules jusqu'ici.   "
   ]
  },
  {
   "cell_type": "code",
   "execution_count": 43,
   "metadata": {},
   "outputs": [
    {
     "data": {
      "text/plain": [
       "((7, 28, 28), dtype('uint8'))"
      ]
     },
     "execution_count": 43,
     "metadata": {},
     "output_type": "execute_result"
    }
   ],
   "source": [
    "import cv2\n",
    "# lecture des images -> matrices ndarray 28x28 \n",
    "input_data = [255-cv2.cvtColor(cv2.imread(image),cv2.COLOR_BGR2GRAY) for image in images]\n",
    "input_data = np.array(input_data)\n",
    "input_data.shape, input_data.dtype  # on doit avoir 4 matrices de 28 x 28 valeurs "
   ]
  },
  {
   "cell_type": "markdown",
   "metadata": {},
   "source": [
    "### Option : lecture des fichiers image avec scikit-image\n",
    "\n",
    "Si l'installation du module openCV pose problème, on peut utiliser la fonction imread du module skimage.io :\n",
    "\n",
    "    pip install scikit-image\n",
    "    "
   ]
  },
  {
   "cell_type": "code",
   "execution_count": 46,
   "metadata": {},
   "outputs": [
    {
     "data": {
      "text/plain": [
       "((7, 28, 28), dtype('float64'))"
      ]
     },
     "execution_count": 46,
     "metadata": {},
     "output_type": "execute_result"
    }
   ],
   "source": [
    "from skimage.io import imread\n",
    "input_data = [255-imread(image, as_gray=True) for image in images]\n",
    "input_data = np.array(input_data)\n",
    "input_data.shape, input_data.dtype "
   ]
  },
  {
   "cell_type": "markdown",
   "metadata": {},
   "source": [
    "#### Visualistion des images :"
   ]
  },
  {
   "cell_type": "code",
   "execution_count": 47,
   "metadata": {},
   "outputs": [
    {
     "data": {
      "image/png": "[encoded data removed]",
      "text/plain": [
       "<Figure size 1080x288 with 7 Axes>"
      ]
     },
     "metadata": {},
     "output_type": "display_data"
    }
   ],
   "source": [
    "plt.figure(figsize=(15,4))\n",
    "for i,M in enumerate(input_data):  \n",
    "    plt.subplot(1,12,i+1)\n",
    "    plt.imshow(input_data[i], cmap='binary');\n",
    "    plt.xticks([]); plt.yticks([])"
   ]
  },
  {
   "cell_type": "markdown",
   "metadata": {},
   "source": [
    "transformation des matrices 28x28 en vecteurs de float normalisés :"
   ]
  },
  {
   "cell_type": "code",
   "execution_count": 48,
   "metadata": {},
   "outputs": [],
   "source": [
    "nb_images = input_data.shape[0]\n",
    "# mise 'à plat' des matrices sous forme de vecteurs de floats :\n",
    "x_photo = input_data.reshape(nb_images, 28*28).astype('float32')\n",
    "# normalisation des données :\n",
    "x_photo /= 255"
   ]
  },
  {
   "cell_type": "markdown",
   "metadata": {},
   "source": [
    "prédiction du réseau entrainé, avec les images perso :"
   ]
  },
  {
   "cell_type": "code",
   "execution_count": 53,
   "metadata": {},
   "outputs": [
    {
     "name": "stdout",
     "output_type": "stream",
     "text": [
      "[[0.000 0.000 1.000 0.000 0.000 0.000 0.000 0.000 0.000 0.000]\n",
      " [0.000 0.000 0.000 0.000 0.000 1.000 0.000 0.000 0.000 0.000]\n",
      " [0.000 0.000 0.000 0.000 0.000 1.000 0.000 0.000 0.000 0.000]\n",
      " [0.000 0.965 0.034 0.000 0.000 0.000 0.000 0.000 0.001 0.000]\n",
      " [0.000 0.000 0.000 0.000 0.000 1.000 0.000 0.000 0.000 0.000]\n",
      " [0.000 0.000 0.000 1.000 0.000 0.000 0.000 0.000 0.000 0.000]\n",
      " [0.000 0.000 0.000 0.000 0.000 1.000 0.000 0.000 0.000 0.000]]\n"
     ]
    }
   ],
   "source": [
    "np.set_printoptions(formatter={'float': '{:0.3f}'.format})\n",
    "rep = model.predict(x_photo)\n",
    "print(rep)"
   ]
  },
  {
   "cell_type": "code",
   "execution_count": 50,
   "metadata": {},
   "outputs": [
    {
     "data": {
      "text/plain": [
       "[2, 5, 5, 1, 5, 3, 5]"
      ]
     },
     "execution_count": 50,
     "metadata": {},
     "output_type": "execute_result"
    }
   ],
   "source": [
    "[r.argmax() for r in rep]"
   ]
  },
  {
   "cell_type": "code",
   "execution_count": 54,
   "metadata": {},
   "outputs": [
    {
     "name": "stdout",
     "output_type": "stream",
     "text": [
      "[[0.000 0.000 1.000 0.000 0.000 0.000 0.000 0.000 0.000 0.000]\n",
      " [0.000 0.000 0.000 0.000 0.000 1.000 0.000 0.000 0.000 0.000]\n",
      " [0.000 0.000 0.000 0.000 0.000 1.000 0.000 0.000 0.000 0.000]\n",
      " [0.000 0.995 0.004 0.000 0.000 0.000 0.000 0.000 0.000 0.000]\n",
      " [0.000 0.000 0.000 0.000 0.000 1.000 0.000 0.000 0.000 0.000]\n",
      " [0.000 0.000 0.000 1.000 0.000 0.000 0.000 0.000 0.000 0.000]\n",
      " [0.000 0.000 0.000 0.000 0.000 1.000 0.000 0.000 0.000 0.000]]\n"
     ]
    }
   ],
   "source": [
    "rep = model2.predict(x_photo)\n",
    "print(rep)"
   ]
  },
  {
   "cell_type": "code",
   "execution_count": 55,
   "metadata": {},
   "outputs": [
    {
     "data": {
      "text/plain": [
       "[2, 5, 5, 1, 5, 3, 5]"
      ]
     },
     "execution_count": 55,
     "metadata": {},
     "output_type": "execute_result"
    }
   ],
   "source": [
    "[r.argmax() for r in rep]"
   ]
  },
  {
   "cell_type": "markdown",
   "metadata": {},
   "source": [
    "Le résultat n'est pas terrible : pour améliorer les performances du réseau il est nécessaire de changer d'architecture pour passer sur des réseaux de type **convolutionnel**, ce qui est l'objet du cahier IPython `TP_MNIS_Keras_convolutionnel.ipynb`."
   ]
  },
  {
   "cell_type": "markdown",
   "metadata": {},
   "source": [
    "# Conclusion\n",
    "\n",
    "Si on essaye de rejouer plusieur fois de suite la création/entrainnement du réseau de neurones, on observe des résultats différents à chaque fois : à la création du réseau de neurones, les 623290 poids des neurones sont initialisés par tirages aléatoires...\n",
    "Chaque re-tirage aléatoire fournit un jeu de 623290 nombres différents, d'où un réseau entrainné différent...\n",
    "\n",
    "Pour obtenir un comportement **reproductible** sur plusieurs création/entrainnement ou sur plusieur machines, il faut configurer les générateurs de nombres aléatoires impliqués de façon à obtenir des suites aléatoires **reproductibles**.\n",
    "\n",
    "Ceci s'obtient en fixant la **graine** (*seed*) des générateurs aléatoires...."
   ]
  },
  {
   "cell_type": "code",
   "execution_count": null,
   "metadata": {},
   "outputs": [],
   "source": []
  }
 ],
 "metadata": {
  "kernelspec": {
   "display_name": "Python 3",
   "language": "python",
   "name": "python3"
  },
  "language_info": {
   "codemirror_mode": {
    "name": "ipython",
    "version": 3
   },
   "file_extension": ".py",
   "mimetype": "text/x-python",
   "name": "python",
   "nbconvert_exporter": "python",
   "pygments_lexer": "ipython3",
   "version": "3.6.5"
  }
 },
 "nbformat": 4,
 "nbformat_minor": 2
}
