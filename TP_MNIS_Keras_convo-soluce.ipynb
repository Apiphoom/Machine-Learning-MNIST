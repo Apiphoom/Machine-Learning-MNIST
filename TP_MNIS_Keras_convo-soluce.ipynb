{
 "cells": [
  {
   "cell_type": "markdown",
   "metadata": {},
   "source": [
    "Cahier IPython en cours d'élaboration....\n",
    "\n",
    "    v1.0 2019/06/13 BA  MAJ par Benjamin AILLOUD (stage L2 informatique)    "
   ]
  },
  {
   "cell_type": "code",
   "execution_count": 11,
   "metadata": {},
   "outputs": [],
   "source": [
    "%matplotlib inline"
   ]
  },
  {
   "cell_type": "markdown",
   "metadata": {},
   "source": [
    "# Machine Learning : Réseau de neurone convolutionnel"
   ]
  },
  {
   "cell_type": "markdown",
   "metadata": {},
   "source": [
    "<p style=\"text-align:center; font-style:italic; font-size=xx-small\">\n",
    "    <img src=\"./figures/cnn_doc.png\" width=\"600\" >\n",
    "    (crédit image : JLC)\n",
    "</p>"
   ]
  },
  {
   "cell_type": "markdown",
   "metadata": {},
   "source": [
    "# Prérequis"
   ]
  },
  {
   "cell_type": "markdown",
   "metadata": {},
   "source": [
    "L'objectif de ce tp est de comprendre le fonctionnement d'un `réseau convolutionnel` et sa construction via l'utilisation des modules `keras` et `tensorflow`. Programmer un `réseau convolutionnel` ne diffère pas entièrement d'un `réseau dense` vu au tp précédent, le déroulement du code reste essentiellement le même : \n",
    "- Import des images\n",
    "- Ici, les images ne sont plus vectorisées car l'opération de convolution nécessite une matrice de pixels, mais il y'a quand même une étape de transformation des données d'entrées pour rajouter les canaux de couleurs. L'étape de normalisation est toujours importante.\n",
    "- `Hot encoding` des output\n",
    "- Construction du modèle\n",
    "- Entrainement\n",
    "- Analyse des résultats"
   ]
  },
  {
   "cell_type": "markdown",
   "metadata": {},
   "source": [
    "Petit rappel de cours: \n",
    "- Chaque étape de `convolution` comporte aussi une `activation` qui utilise généralement la fonction `relu`\n",
    "- Un réseau de neuronne convolutionnel se termine par une couche dense"
   ]
  },
  {
   "cell_type": "markdown",
   "metadata": {},
   "source": [
    "# Formatage des données\n"
   ]
  },
  {
   "cell_type": "code",
   "execution_count": 2,
   "metadata": {},
   "outputs": [
    {
     "name": "stderr",
     "output_type": "stream",
     "text": [
      "Using TensorFlow backend.\n"
     ]
    },
    {
     "name": "stdout",
     "output_type": "stream",
     "text": [
      "<class 'numpy.ndarray'> <class 'numpy.ndarray'>\n",
      "<class 'numpy.ndarray'> <class 'numpy.ndarray'>\n"
     ]
    }
   ],
   "source": [
    "import tensorflow  \n",
    "import keras \n",
    "\n",
    "# Load data from https://www.openml.org/d/554\n",
    "from keras.datasets import mnist\n",
    "(image_train, etiq_train), (image_test, etiq_test) = mnist.load_data()\n",
    "print(type(image_train),type(image_test))\n",
    "print(type(etiq_train),type(etiq_test))"
   ]
  },
  {
   "cell_type": "code",
   "execution_count": 3,
   "metadata": {},
   "outputs": [],
   "source": [
    "import numpy as np\n",
    "from keras.utils import np_utils \n",
    "\n",
    "# Normalisation des valeurs de pixel\n",
    "image_train = image_train/255\n",
    "image_test = image_test/255\n",
    "\n",
    "y_train = np_utils.to_categorical(etiq_train)\n",
    "y_test  = np_utils.to_categorical(etiq_test)"
   ]
  },
  {
   "cell_type": "markdown",
   "metadata": {},
   "source": [
    "L'utilisation des réseaux de convolution nécessite des `inputs` prenant en compte le nombre de `canaux de couleur`, par exemple, une image RGB possède 3 canaux de couleurs alors qu'une image en noir et blanc n'en possède qu'un.\n",
    "Pour l'instant nos inputs sont en format 2 dimensions où le canal de couleur n'est pas représenté."
   ]
  },
  {
   "cell_type": "code",
   "execution_count": 4,
   "metadata": {},
   "outputs": [
    {
     "name": "stdout",
     "output_type": "stream",
     "text": [
      "(60000, 28, 28)\n"
     ]
    }
   ],
   "source": [
    "print(image_train.shape)"
   ]
  },
  {
   "cell_type": "markdown",
   "metadata": {},
   "source": [
    "**60 000 images 2D de 28x28** pixels,<span style=\"color:blue;font-family:arial\"> rajoutons la dimension du 'canal gris', en sachant que nos images sont en </span> **ton de gris**."
   ]
  },
  {
   "cell_type": "code",
   "execution_count": 5,
   "metadata": {},
   "outputs": [],
   "source": [
    "image_train = image_train.reshape((60000,28,28,1))\n",
    "image_test = image_test.reshape((10000,28,28,1))"
   ]
  },
  {
   "cell_type": "markdown",
   "metadata": {},
   "source": [
    "# Création du modèle\n"
   ]
  },
  {
   "cell_type": "markdown",
   "metadata": {},
   "source": [
    "<span style=\"color:blue;font-family:arial\"> Cette fois-ci, c'est à vous de créer le **modèle** représenté dans l'image de début de tp, en utilisant notamment la librairie `tensorflow`. Pour créer les couches vous allez devoir utiliser les fonctions du module `tensorflow.keras.layers`, lisez bien la doc et la description des arguments des fonctions: </span>\n",
    "- **Conv2D**: `Première convolution`(16 filtres, fenêtre(5,5), activation('relu'),input((28,28,1)), `Seconde convolution`(32 filtres, fenêtre(5,5), activation('relu')\n",
    "- **MaxPooling2D** //args : Facteur de division des matrices en largeur et hauteur(2,2)\n",
    "- **Dense** //args : Nombre de neuronne dans la couche = largeur output * hauteur output * nombre d'output de la couche précédente. <br> </br> Prendre en compte le pooling pour la taille des input !  \n",
    "- **Flatten**\n",
    "\n"
   ]
  },
  {
   "cell_type": "markdown",
   "metadata": {},
   "source": [
    "<span style=\"color:blue;font-family:arial\"> Utiliser les infos précédentes pour donner les valeurs des paramètres du modèle : </span>"
   ]
  },
  {
   "cell_type": "code",
   "execution_count": 6,
   "metadata": {},
   "outputs": [],
   "source": [
    "#Layer 1\n",
    "nb_filters_layer_conv1 = 16\n",
    "act_conv1 = 'relu'\n",
    "kernel_size_conv1 = (5,5)\n",
    "input_shape_conv = (28,28,1)\n",
    "pool_ratio_conv1 = (2,2)\n",
    "\n",
    "#Layer2\n",
    "nb_filters_layer_conv2 = 32\n",
    "act_conv2 = 'relu'\n",
    "kernel_size_conv2 = (5,5)\n",
    "pool_ratio_conv2 = (2,2)\n",
    "\n",
    "#Layer 3\n",
    "input_size = input_shape_conv[0]/pool_ratio_conv1[0]/pool_ratio_conv2[0]\n",
    "nb_neurons_dense1 = input_size * input_size * nb_filters_layer_conv2 \n",
    "act_dense1 = 'relu'\n",
    "kernel_init_dense1 = 'normal'\n",
    "\n",
    "#Layer 4\n",
    "nb_neurons_dense2 = y_test.shape[1] \n",
    "act_dense2 = 'softmax'\n",
    "kernel_init_dense2 = 'normal'\n",
    "\n",
    "dropout_ratio = 0.2"
   ]
  },
  {
   "cell_type": "markdown",
   "metadata": {},
   "source": [
    "<span style=\"color:blue;font-family:arial\"> Remplir le modèle :</span>"
   ]
  },
  {
   "cell_type": "code",
   "execution_count": 7,
   "metadata": {},
   "outputs": [
    {
     "name": "stdout",
     "output_type": "stream",
     "text": [
      "WARNING:tensorflow:From /home/jlc/work/miniconda3/envs/minfo/lib/python3.6/site-packages/tensorflow/python/ops/resource_variable_ops.py:435: colocate_with (from tensorflow.python.framework.ops) is deprecated and will be removed in a future version.\n",
      "Instructions for updating:\n",
      "Colocations handled automatically by placer.\n",
      "WARNING:tensorflow:From /home/jlc/work/miniconda3/envs/minfo/lib/python3.6/site-packages/tensorflow/python/keras/layers/core.py:143: calling dropout (from tensorflow.python.ops.nn_ops) with keep_prob is deprecated and will be removed in a future version.\n",
      "Instructions for updating:\n",
      "Please use `rate` instead of `keep_prob`. Rate should be set to `rate = 1 - keep_prob`.\n"
     ]
    }
   ],
   "source": [
    "model = tensorflow.keras.models.Sequential()\n",
    "\n",
    "\n",
    "#Première couche convolutionnelle correspondant à la couche d'entrée (input layer)  : 16 filtres, fenêtre(5,5)\n",
    "model.add(tensorflow.keras.layers.Conv2D(filters = nb_filters_layer_conv1,\n",
    "                                   kernel_size= kernel_size_conv1,\n",
    "                                   activation= act_conv1,\n",
    "                                   input_shape = input_shape_conv))\n",
    "\n",
    "model.add(tensorflow.keras.layers.MaxPooling2D(pool_size= pool_ratio_conv1))\n",
    "\n",
    "#Seconde couche convolutionnelle : 32 filtres, fenêtre(5,5)\n",
    "model.add(tensorflow.keras.layers.Conv2D(filters = nb_filters_layer_conv2,\n",
    "                                   kernel_size = kernel_size_conv2, \n",
    "                                   activation= act_conv2))\n",
    "\n",
    "model.add(tensorflow.keras.layers.MaxPooling2D(pool_size= pool_ratio_conv2))\n",
    "\n",
    "#Vectorisation des matrices\n",
    "model.add(tensorflow.keras.layers.Flatten())\n",
    "\n",
    "#Couche dense, le nombre de neuronnes vaut en général : nombre de filtres de la couche convolutionnelle précédente\n",
    "# multipliée par la taille de celles-ci --> nbF * hauteur * largeur\n",
    "# nb_neurons = nb_filters* * *...\n",
    "model.add(tensorflow.keras.layers.Dense( nb_neurons_dense1,activation= act_dense1,kernel_initializer= kernel_init_dense1)) \n",
    "\n",
    "#La fonction Dropout permet de désactiver certains neuronnes avec la probabilité définie ce qui permet d'éviter le \n",
    "#sur-apprentissage des neuronnes aussi appelé \"overfitting\"\n",
    "model.add(tensorflow.keras.layers.Dropout(dropout_ratio))\n",
    "\n",
    "\n",
    "#Couche dense de sortie (output layer)\n",
    "model.add(tensorflow.keras.layers.Dense(nb_neurons_dense2,activation = act_dense2,kernel_initializer= kernel_init_dense2))\n",
    "\n",
    "model.compile(loss = \"categorical_crossentropy\",optimizer=\"adam\",metrics=[\"accuracy\"])"
   ]
  },
  {
   "cell_type": "markdown",
   "metadata": {},
   "source": [
    "# Entrainement du modèle\n"
   ]
  },
  {
   "cell_type": "code",
   "execution_count": 8,
   "metadata": {},
   "outputs": [
    {
     "name": "stdout",
     "output_type": "stream",
     "text": [
      "Train on 60000 samples, validate on 10000 samples\n",
      "WARNING:tensorflow:From /home/jlc/work/miniconda3/envs/minfo/lib/python3.6/site-packages/tensorflow/python/ops/math_ops.py:3066: to_int32 (from tensorflow.python.ops.math_ops) is deprecated and will be removed in a future version.\n",
      "Instructions for updating:\n",
      "Use tf.cast instead.\n",
      "Epoch 1/5\n",
      "60000/60000 [==============================] - 26s 427us/sample - loss: 0.1526 - acc: 0.9544 - val_loss: 0.0438 - val_acc: 0.9850\n",
      "Epoch 2/5\n",
      "60000/60000 [==============================] - 25s 421us/sample - loss: 0.0451 - acc: 0.9861 - val_loss: 0.0337 - val_acc: 0.9891\n",
      "Epoch 3/5\n",
      "60000/60000 [==============================] - 23s 383us/sample - loss: 0.0314 - acc: 0.9902 - val_loss: 0.0275 - val_acc: 0.9900\n",
      "Epoch 4/5\n",
      "60000/60000 [==============================] - 29s 475us/sample - loss: 0.0237 - acc: 0.9927 - val_loss: 0.0284 - val_acc: 0.9913\n",
      "Epoch 5/5\n",
      "60000/60000 [==============================] - 23s 388us/sample - loss: 0.0181 - acc: 0.9944 - val_loss: 0.0303 - val_acc: 0.9907\n"
     ]
    }
   ],
   "source": [
    "# Pour vous faire gagner du temps car l'entrainement d'un réseau convolutionnel est bien plus long, on limitera\n",
    "# le paramètre `epochs` à une valeur faible (5 à 10 par exemple).\n",
    "\n",
    "history = model.fit(image_train, y_train, validation_data=(image_test, y_test), epochs=5, batch_size=100)"
   ]
  },
  {
   "cell_type": "markdown",
   "metadata": {},
   "source": [
    "# Analyse des résultats"
   ]
  },
  {
   "cell_type": "code",
   "execution_count": 13,
   "metadata": {},
   "outputs": [
    {
     "data": {
      "image/png": "[encoded data removed]",
      "text/plain": [
       "<Figure size 1080x360 with 2 Axes>"
      ]
     },
     "metadata": {
      "needs_background": "light"
     },
     "output_type": "display_data"
    }
   ],
   "source": [
    "def plot(history):\n",
    "    # Plot training & validation accuracy values\n",
    "    plt.figure(figsize=(15,5))\n",
    "    ax1 = plt.subplot(1,2,1)\n",
    "    ax1.plot(history.history['acc'], 'o-',label='Train')\n",
    "    ax1.plot(history.history['val_acc'], 'o-', label='Test')\n",
    "    ax1.set_title('Model accuracy')\n",
    "    ax1.set_ylabel('Accuracy')\n",
    "    ax1.set_xlabel('Epoch') \n",
    "    ax1.grid()\n",
    "    ax1.legend(loc='best')\n",
    "    # Plot training & validation loss values\n",
    "    ax2 = plt.subplot(1,2,2)\n",
    "    ax2.plot(history.history['loss'], 'o-', label='Train')\n",
    "    ax2.plot(history.history['val_loss'], 'o-',  label='Test')\n",
    "    ax2.set_title('Model loss')\n",
    "    ax2.set_ylabel('Loss')\n",
    "    ax2.set_xlabel('Epoch')\n",
    "    ax2.legend(loc='best')\n",
    "    ax2.grid()\n",
    "    plt.show()\n",
    "\n",
    "plot(history)    "
   ]
  },
  {
   "cell_type": "code",
   "execution_count": 14,
   "metadata": {},
   "outputs": [
    {
     "name": "stdout",
     "output_type": "stream",
     "text": [
      "taux de réussite : 99.07 %\n"
     ]
    },
    {
     "data": {
      "text/plain": [
       "[0.030303387, 0.9907]"
      ]
     },
     "execution_count": 14,
     "metadata": {},
     "output_type": "execute_result"
    }
   ],
   "source": [
    "res = model.predict_on_batch(image_test)\n",
    "\n",
    "rep = 0\n",
    "for i in range(len(image_test)):\n",
    "    rep += np.argmax(res[i]) == etiq_test[i]\n",
    "print(\"taux de réussite : {:.2f} %\".format(rep/len(image_test)*100))\n",
    "\n",
    "\n",
    "#ou\n",
    "model.test_on_batch(image_test, y_test)"
   ]
  },
  {
   "cell_type": "markdown",
   "metadata": {},
   "source": [
    "**Si votre modèle est bon, vous devriez obtenir un taux de réussite aux alentours de 99% voir plus.\n",
    "Rappel : Le taux de réussite peut s'améliorer en augmentant le nombre d'epochs**"
   ]
  },
  {
   "cell_type": "markdown",
   "metadata": {},
   "source": [
    "# Utilisons nos images de la dernière fois pour voir ci ce réseau est plus efficace"
   ]
  },
  {
   "cell_type": "code",
   "execution_count": 28,
   "metadata": {},
   "outputs": [
    {
     "name": "stdout",
     "output_type": "stream",
     "text": [
      "Liste des images envoyées : ['./chiffres/huit.png', \"./chiffres/ce n'est pas un deux.png\", './chiffres/septFrançais.png', './chiffres/6jlc.png', './chiffres/essa1.png', './chiffres/quatre.png', \"./chiffres/n'oeuf.png\", './chiffres/cinq.png', './chiffres/chaval de 3.png', './chiffres/septAmericain.png']\n"
     ]
    }
   ],
   "source": [
    "import os\n",
    "images = ['./chiffres/'+f for f in os.listdir('./chiffres') if f.endswith(\".png\") or f.endswith(\".jpg\")]\n",
    "print(\"Liste des images envoyées : {}\".format(images))"
   ]
  },
  {
   "cell_type": "code",
   "execution_count": 29,
   "metadata": {},
   "outputs": [
    {
     "data": {
      "text/plain": [
       "((10, 28, 28), dtype('uint8'))"
      ]
     },
     "execution_count": 29,
     "metadata": {},
     "output_type": "execute_result"
    }
   ],
   "source": [
    "import cv2\n",
    "# lecture des images -> matrices ndarray 28x28 \n",
    "input_data = [255-cv2.cvtColor(cv2.imread(image),cv2.COLOR_BGR2GRAY) for image in images]\n",
    "input_data = np.array(input_data)\n",
    "input_data.shape, input_data.dtype  # on doit avoir 4 matrices de 28 x 28 valeurs"
   ]
  },
  {
   "cell_type": "code",
   "execution_count": 30,
   "metadata": {},
   "outputs": [
    {
     "data": {
      "image/png": "[encoded data removed]",
      "text/plain": [
       "<Figure size 720x720 with 10 Axes>"
      ]
     },
     "metadata": {},
     "output_type": "display_data"
    }
   ],
   "source": [
    "plt.figure(figsize=(10,10))\n",
    "for i,M in enumerate(input_data):  \n",
    "    plt.subplot(1,input_data.shape[0],i+1)\n",
    "    plt.xticks([])\n",
    "    plt.yticks([])\n",
    "    plt.imshow(input_data[i], cmap='binary')\n",
    "plt.show()    "
   ]
  },
  {
   "cell_type": "code",
   "execution_count": 31,
   "metadata": {},
   "outputs": [],
   "source": [
    "nb_images = input_data.shape[0]\n",
    "# mise 'à plat' des matrices sous forme de vecteurs de floats :\n",
    "X_photo = input_data.reshape(nb_images, 28,28,1).astype('float32')\n",
    "# normalisation des données :\n",
    "X_photo /= 255"
   ]
  },
  {
   "cell_type": "code",
   "execution_count": 32,
   "metadata": {},
   "outputs": [
    {
     "name": "stdout",
     "output_type": "stream",
     "text": [
      "[[0.0009 0.0003 0.0155 0.0010 0.0008 0.0006 0.0034 0.0000 0.9737 0.0038]\n",
      " [0.0000 0.0000 1.0000 0.0000 0.0000 0.0000 0.0000 0.0000 0.0000 0.0000]\n",
      " [0.0000 0.0000 0.0137 0.0000 0.0000 0.0000 0.0000 0.9862 0.0000 0.0000]\n",
      " [0.0002 0.0000 0.0000 0.0000 0.0000 0.0495 0.9502 0.0000 0.0001 0.0001]\n",
      " [0.0000 0.9810 0.0136 0.0001 0.0018 0.0000 0.0000 0.0034 0.0000 0.0001]\n",
      " [0.0000 0.0000 0.0002 0.0001 0.9739 0.0252 0.0000 0.0001 0.0001 0.0003]\n",
      " [0.0007 0.0019 0.0154 0.0023 0.0172 0.0051 0.0000 0.0030 0.0020 0.9523]\n",
      " [0.0000 0.0000 0.0000 0.0000 0.0000 0.9933 0.0000 0.0000 0.0000 0.0067]\n",
      " [0.0000 0.0000 0.0000 0.9999 0.0000 0.0000 0.0000 0.0000 0.0000 0.0000]\n",
      " [0.0000 0.0000 0.0001 0.0000 0.0000 0.0000 0.0000 0.9999 0.0000 0.0000]]\n"
     ]
    }
   ],
   "source": [
    "rep = model.predict(X_photo)\n",
    "with np.printoptions(formatter={'float': '{:0.4f}'.format}): print(rep)"
   ]
  },
  {
   "cell_type": "code",
   "execution_count": 33,
   "metadata": {},
   "outputs": [
    {
     "data": {
      "text/plain": [
       "[8, 2, 7, 6, 1, 4, 9, 5, 3, 7]"
      ]
     },
     "execution_count": 33,
     "metadata": {},
     "output_type": "execute_result"
    }
   ],
   "source": [
    "[r.argmax() for r in model.predict(X_photo)]"
   ]
  },
  {
   "cell_type": "markdown",
   "metadata": {},
   "source": [
    "**On peut voir que le réseau convolutionel n'est pas à 100% fiable mais il permet quand même de très bon résultats comparé au réseau dense vu précédemment.**"
   ]
  },
  {
   "cell_type": "code",
   "execution_count": null,
   "metadata": {},
   "outputs": [],
   "source": []
  }
 ],
 "metadata": {
  "kernelspec": {
   "display_name": "Python [conda env:pyml] *",
   "language": "python",
   "name": "conda-env-pyml-py"
  },
  "language_info": {
   "codemirror_mode": {
    "name": "ipython",
    "version": 3
   },
   "file_extension": ".py",
   "mimetype": "text/x-python",
   "name": "python",
   "nbconvert_exporter": "python",
   "pygments_lexer": "ipython3",
   "version": "3.6.8"
  }
 },
 "nbformat": 4,
 "nbformat_minor": 2
}
